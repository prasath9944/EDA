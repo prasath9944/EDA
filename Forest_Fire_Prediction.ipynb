{
 "cells": [
  {
   "cell_type": "markdown",
   "id": "f5120912",
   "metadata": {},
   "source": [
    "# Algerain Forest Fire\n",
    "\n",
    "\n",
    "- Machine Learning LifeCycle\n",
    "    1. Data Ingestion\n",
    "    2. EDA \n",
    "    3. Preprocessing\n",
    "    4. Model Building\n",
    "    5. Performance Metrics\n",
    "    \n",
    "    \n",
    "\n",
    "- Problem Statement\n",
    "    \n",
    "       - The dataset includes 244 instances that regroup a data of two regions of Algeria,namely the Bejaia region located in the northeast of Algeria and the Sidi Bel-abbes region located in the northwest of Algeria.\n",
    "        122 instances for each region.\n",
    "        The period from June 2012 to September 2012.\n",
    "        The dataset includes 11 attribues and 1 output attribue (class)\n",
    "        The 244 instances have been classified into fire (138 classes) and not fire (106 classes) classes.\n",
    "    \n",
    "    \n",
    "- Feature Description\n",
    "    1. Date : (DD/MM/YYYY) Day, month ('june' to 'september'), year (2012) Weather data observations\n",
    "    2. Temp : temperature noon (temperature max) in Celsius degrees: 22 to 42\n",
    "    3. RH : Relative Humidity in %: 21 to 90\n",
    "    4. Ws :Wind speed in km/h: 6 to 29\n",
    "    5. Rain: total day in mm: 0 to 16.8 FWI Components\n",
    "    6. Fine Fuel Moisture Code (FFMC) index from the FWI system: 28.6 to 92.5\n",
    "    7. Duff Moisture Code (DMC) index from the FWI system: 1.1 to 65.9\n",
    "    8. Drought Code (DC) index from the FWI system: 7 to 220.4\n",
    "    9. Initial Spread Index (ISI) index from the FWI system: 0 to 18.5\n",
    "    10. Buildup Index (BUI) index from the FWI system: 1.1 to 68\n",
    "    11. Fire Weather Index (FWI) Index: 0 to 31.1\n",
    "    12. Classes: two classes, namely Fire and not Fire\n",
    "    \n",
    "    \n",
    "\n",
    "- Machine Learning Models Used\n",
    "    1. Linear Regression\n",
    "    2. Ridge Regression\n",
    "    3. Lasso Regression\n",
    "    4. Elastic-Net Regression"
   ]
  },
  {
   "cell_type": "code",
   "execution_count": 300,
   "id": "ac29e77c",
   "metadata": {},
   "outputs": [],
   "source": [
    "## Importing the necessary libraries\n",
    "import pandas as pd\n",
    "import numpy as np\n",
    "import matplotlib.pyplot as plt\n",
    "import seaborn as sns\n",
    "import warnings\n",
    "warnings.filterwarnings(\"ignore\")\n",
    "%matplotlib inline"
   ]
  },
  {
   "cell_type": "code",
   "execution_count": 301,
   "id": "11dd452d",
   "metadata": {},
   "outputs": [],
   "source": [
    "## importing the Dataset\n",
    "data=pd.read_csv(r'Algerian_Forest_Fire.csv',header=1)"
   ]
  },
  {
   "cell_type": "code",
   "execution_count": 302,
   "id": "c1823a11",
   "metadata": {},
   "outputs": [],
   "source": [
    "## There are two regions Algeria and Bejaia in same file it needs to be \n",
    "## converted into single dataframe for the anaylsis\n",
    "data=data.drop([122,123],axis=0)"
   ]
  },
  {
   "cell_type": "code",
   "execution_count": 303,
   "id": "8e0f45d8",
   "metadata": {},
   "outputs": [
    {
     "data": {
      "text/plain": [
       "Index(['day', 'month', 'year', 'Temperature', ' RH', ' Ws', 'Rain ', 'FFMC',\n",
       "       'DMC', 'DC', 'ISI', 'BUI', 'FWI', 'Classes  '],\n",
       "      dtype='object')"
      ]
     },
     "execution_count": 303,
     "metadata": {},
     "output_type": "execute_result"
    }
   ],
   "source": [
    "# Printing the Column Labels in the dataset\n",
    "data.columns"
   ]
  },
  {
   "cell_type": "code",
   "execution_count": 304,
   "id": "e7487cf1",
   "metadata": {},
   "outputs": [],
   "source": [
    "## Renaming the Columns which has space in the column labels\n",
    "data.rename(columns={' RH':'RH','Rain ':'Rain',' Ws':'Ws','Classes  ':'Classes'},inplace=True)"
   ]
  },
  {
   "cell_type": "code",
   "execution_count": 305,
   "id": "61f88f01",
   "metadata": {},
   "outputs": [
    {
     "data": {
      "text/plain": [
       "Index(['day', 'month', 'year', 'Temperature', 'RH', 'Ws', 'Rain', 'FFMC',\n",
       "       'DMC', 'DC', 'ISI', 'BUI', 'FWI', 'Classes'],\n",
       "      dtype='object')"
      ]
     },
     "execution_count": 305,
     "metadata": {},
     "output_type": "execute_result"
    }
   ],
   "source": [
    "data.columns"
   ]
  },
  {
   "cell_type": "code",
   "execution_count": 306,
   "id": "5b039cff",
   "metadata": {},
   "outputs": [
    {
     "data": {
      "text/html": [
       "<div>\n",
       "<style scoped>\n",
       "    .dataframe tbody tr th:only-of-type {\n",
       "        vertical-align: middle;\n",
       "    }\n",
       "\n",
       "    .dataframe tbody tr th {\n",
       "        vertical-align: top;\n",
       "    }\n",
       "\n",
       "    .dataframe thead th {\n",
       "        text-align: right;\n",
       "    }\n",
       "</style>\n",
       "<table border=\"1\" class=\"dataframe\">\n",
       "  <thead>\n",
       "    <tr style=\"text-align: right;\">\n",
       "      <th></th>\n",
       "      <th>day</th>\n",
       "      <th>month</th>\n",
       "      <th>year</th>\n",
       "      <th>Temperature</th>\n",
       "      <th>RH</th>\n",
       "      <th>Ws</th>\n",
       "      <th>Rain</th>\n",
       "      <th>FFMC</th>\n",
       "      <th>DMC</th>\n",
       "      <th>DC</th>\n",
       "      <th>ISI</th>\n",
       "      <th>BUI</th>\n",
       "      <th>FWI</th>\n",
       "      <th>Classes</th>\n",
       "    </tr>\n",
       "  </thead>\n",
       "  <tbody>\n",
       "    <tr>\n",
       "      <th>0</th>\n",
       "      <td>01</td>\n",
       "      <td>06</td>\n",
       "      <td>2012</td>\n",
       "      <td>29</td>\n",
       "      <td>57</td>\n",
       "      <td>18</td>\n",
       "      <td>0</td>\n",
       "      <td>65.7</td>\n",
       "      <td>3.4</td>\n",
       "      <td>7.6</td>\n",
       "      <td>1.3</td>\n",
       "      <td>3.4</td>\n",
       "      <td>0.5</td>\n",
       "      <td>not fire</td>\n",
       "    </tr>\n",
       "    <tr>\n",
       "      <th>1</th>\n",
       "      <td>02</td>\n",
       "      <td>06</td>\n",
       "      <td>2012</td>\n",
       "      <td>29</td>\n",
       "      <td>61</td>\n",
       "      <td>13</td>\n",
       "      <td>1.3</td>\n",
       "      <td>64.4</td>\n",
       "      <td>4.1</td>\n",
       "      <td>7.6</td>\n",
       "      <td>1</td>\n",
       "      <td>3.9</td>\n",
       "      <td>0.4</td>\n",
       "      <td>not fire</td>\n",
       "    </tr>\n",
       "    <tr>\n",
       "      <th>2</th>\n",
       "      <td>03</td>\n",
       "      <td>06</td>\n",
       "      <td>2012</td>\n",
       "      <td>26</td>\n",
       "      <td>82</td>\n",
       "      <td>22</td>\n",
       "      <td>13.1</td>\n",
       "      <td>47.1</td>\n",
       "      <td>2.5</td>\n",
       "      <td>7.1</td>\n",
       "      <td>0.3</td>\n",
       "      <td>2.7</td>\n",
       "      <td>0.1</td>\n",
       "      <td>not fire</td>\n",
       "    </tr>\n",
       "    <tr>\n",
       "      <th>3</th>\n",
       "      <td>04</td>\n",
       "      <td>06</td>\n",
       "      <td>2012</td>\n",
       "      <td>25</td>\n",
       "      <td>89</td>\n",
       "      <td>13</td>\n",
       "      <td>2.5</td>\n",
       "      <td>28.6</td>\n",
       "      <td>1.3</td>\n",
       "      <td>6.9</td>\n",
       "      <td>0</td>\n",
       "      <td>1.7</td>\n",
       "      <td>0</td>\n",
       "      <td>not fire</td>\n",
       "    </tr>\n",
       "    <tr>\n",
       "      <th>4</th>\n",
       "      <td>05</td>\n",
       "      <td>06</td>\n",
       "      <td>2012</td>\n",
       "      <td>27</td>\n",
       "      <td>77</td>\n",
       "      <td>16</td>\n",
       "      <td>0</td>\n",
       "      <td>64.8</td>\n",
       "      <td>3</td>\n",
       "      <td>14.2</td>\n",
       "      <td>1.2</td>\n",
       "      <td>3.9</td>\n",
       "      <td>0.5</td>\n",
       "      <td>not fire</td>\n",
       "    </tr>\n",
       "  </tbody>\n",
       "</table>\n",
       "</div>"
      ],
      "text/plain": [
       "  day month  year Temperature  RH  Ws  Rain  FFMC  DMC    DC  ISI  BUI  FWI  \\\n",
       "0  01    06  2012          29  57  18     0  65.7  3.4   7.6  1.3  3.4  0.5   \n",
       "1  02    06  2012          29  61  13   1.3  64.4  4.1   7.6    1  3.9  0.4   \n",
       "2  03    06  2012          26  82  22  13.1  47.1  2.5   7.1  0.3  2.7  0.1   \n",
       "3  04    06  2012          25  89  13   2.5  28.6  1.3   6.9    0  1.7    0   \n",
       "4  05    06  2012          27  77  16     0  64.8    3  14.2  1.2  3.9  0.5   \n",
       "\n",
       "       Classes  \n",
       "0  not fire     \n",
       "1  not fire     \n",
       "2  not fire     \n",
       "3  not fire     \n",
       "4  not fire     "
      ]
     },
     "execution_count": 306,
     "metadata": {},
     "output_type": "execute_result"
    }
   ],
   "source": [
    "# Top Five Records in the dataset\n",
    "data.head()"
   ]
  },
  {
   "cell_type": "code",
   "execution_count": 307,
   "id": "cb8fe5cf",
   "metadata": {},
   "outputs": [
    {
     "data": {
      "text/html": [
       "<div>\n",
       "<style scoped>\n",
       "    .dataframe tbody tr th:only-of-type {\n",
       "        vertical-align: middle;\n",
       "    }\n",
       "\n",
       "    .dataframe tbody tr th {\n",
       "        vertical-align: top;\n",
       "    }\n",
       "\n",
       "    .dataframe thead th {\n",
       "        text-align: right;\n",
       "    }\n",
       "</style>\n",
       "<table border=\"1\" class=\"dataframe\">\n",
       "  <thead>\n",
       "    <tr style=\"text-align: right;\">\n",
       "      <th></th>\n",
       "      <th>day</th>\n",
       "      <th>month</th>\n",
       "      <th>year</th>\n",
       "      <th>Temperature</th>\n",
       "      <th>RH</th>\n",
       "      <th>Ws</th>\n",
       "      <th>Rain</th>\n",
       "      <th>FFMC</th>\n",
       "      <th>DMC</th>\n",
       "      <th>DC</th>\n",
       "      <th>ISI</th>\n",
       "      <th>BUI</th>\n",
       "      <th>FWI</th>\n",
       "      <th>Classes</th>\n",
       "    </tr>\n",
       "  </thead>\n",
       "  <tbody>\n",
       "    <tr>\n",
       "      <th>63</th>\n",
       "      <td>03</td>\n",
       "      <td>08</td>\n",
       "      <td>2012</td>\n",
       "      <td>35</td>\n",
       "      <td>63</td>\n",
       "      <td>14</td>\n",
       "      <td>0.3</td>\n",
       "      <td>76.6</td>\n",
       "      <td>5.7</td>\n",
       "      <td>10</td>\n",
       "      <td>1.7</td>\n",
       "      <td>5.5</td>\n",
       "      <td>0.8</td>\n",
       "      <td>not fire</td>\n",
       "    </tr>\n",
       "    <tr>\n",
       "      <th>136</th>\n",
       "      <td>13</td>\n",
       "      <td>06</td>\n",
       "      <td>2012</td>\n",
       "      <td>30</td>\n",
       "      <td>52</td>\n",
       "      <td>15</td>\n",
       "      <td>2</td>\n",
       "      <td>72.3</td>\n",
       "      <td>11.4</td>\n",
       "      <td>7.8</td>\n",
       "      <td>1.4</td>\n",
       "      <td>10.9</td>\n",
       "      <td>0.9</td>\n",
       "      <td>not fire</td>\n",
       "    </tr>\n",
       "    <tr>\n",
       "      <th>216</th>\n",
       "      <td>01</td>\n",
       "      <td>09</td>\n",
       "      <td>2012</td>\n",
       "      <td>29</td>\n",
       "      <td>86</td>\n",
       "      <td>16</td>\n",
       "      <td>0</td>\n",
       "      <td>37.9</td>\n",
       "      <td>0.9</td>\n",
       "      <td>8.2</td>\n",
       "      <td>0.1</td>\n",
       "      <td>1.4</td>\n",
       "      <td>0</td>\n",
       "      <td>not fire</td>\n",
       "    </tr>\n",
       "    <tr>\n",
       "      <th>24</th>\n",
       "      <td>25</td>\n",
       "      <td>06</td>\n",
       "      <td>2012</td>\n",
       "      <td>31</td>\n",
       "      <td>64</td>\n",
       "      <td>15</td>\n",
       "      <td>0</td>\n",
       "      <td>86.7</td>\n",
       "      <td>14.2</td>\n",
       "      <td>63.8</td>\n",
       "      <td>5.7</td>\n",
       "      <td>18.3</td>\n",
       "      <td>8.4</td>\n",
       "      <td>fire</td>\n",
       "    </tr>\n",
       "    <tr>\n",
       "      <th>77</th>\n",
       "      <td>17</td>\n",
       "      <td>08</td>\n",
       "      <td>2012</td>\n",
       "      <td>37</td>\n",
       "      <td>52</td>\n",
       "      <td>18</td>\n",
       "      <td>0</td>\n",
       "      <td>89.3</td>\n",
       "      <td>16</td>\n",
       "      <td>100.7</td>\n",
       "      <td>9.7</td>\n",
       "      <td>22.9</td>\n",
       "      <td>14.6</td>\n",
       "      <td>fire</td>\n",
       "    </tr>\n",
       "  </tbody>\n",
       "</table>\n",
       "</div>"
      ],
      "text/plain": [
       "    day month  year Temperature  RH  Ws Rain  FFMC   DMC     DC  ISI   BUI  \\\n",
       "63   03    08  2012          35  63  14  0.3  76.6   5.7     10  1.7   5.5   \n",
       "136  13    06  2012          30  52  15    2  72.3  11.4    7.8  1.4  10.9   \n",
       "216  01    09  2012          29  86  16    0  37.9   0.9    8.2  0.1   1.4   \n",
       "24   25    06  2012          31  64  15    0  86.7  14.2   63.8  5.7  18.3   \n",
       "77   17    08  2012          37  52  18    0  89.3    16  100.7  9.7  22.9   \n",
       "\n",
       "      FWI      Classes  \n",
       "63    0.8  not fire     \n",
       "136   0.9  not fire     \n",
       "216     0  not fire     \n",
       "24    8.4      fire     \n",
       "77   14.6      fire     "
      ]
     },
     "execution_count": 307,
     "metadata": {},
     "output_type": "execute_result"
    }
   ],
   "source": [
    "# Sample five records in the dataset\n",
    "data.sample(5)"
   ]
  },
  {
   "cell_type": "code",
   "execution_count": 308,
   "id": "091c45c5",
   "metadata": {},
   "outputs": [
    {
     "data": {
      "text/plain": [
       "0"
      ]
     },
     "execution_count": 308,
     "metadata": {},
     "output_type": "execute_result"
    }
   ],
   "source": [
    "# Checking whether there is any duplicate records in the dataset\n",
    "data.duplicated().sum()"
   ]
  },
  {
   "cell_type": "markdown",
   "id": "e02c6d4d",
   "metadata": {},
   "source": [
    "Observation:\n",
    "    There is no records which is duplicated in the dataset"
   ]
  },
  {
   "cell_type": "code",
   "execution_count": 309,
   "id": "0ee53085",
   "metadata": {},
   "outputs": [
    {
     "data": {
      "text/plain": [
       "(244, 14)"
      ]
     },
     "execution_count": 309,
     "metadata": {},
     "output_type": "execute_result"
    }
   ],
   "source": [
    "## Checking the total number of records and columns with the dataset\n",
    "data.shape"
   ]
  },
  {
   "cell_type": "markdown",
   "id": "a974e90c",
   "metadata": {},
   "source": [
    "### Exploratory Data Anaylsis"
   ]
  },
  {
   "cell_type": "code",
   "execution_count": 310,
   "id": "27c89cbb",
   "metadata": {},
   "outputs": [
    {
     "name": "stdout",
     "output_type": "stream",
     "text": [
      "<class 'pandas.core.frame.DataFrame'>\n",
      "Int64Index: 244 entries, 0 to 245\n",
      "Data columns (total 14 columns):\n",
      " #   Column       Non-Null Count  Dtype \n",
      "---  ------       --------------  ----- \n",
      " 0   day          244 non-null    object\n",
      " 1   month        244 non-null    object\n",
      " 2   year         244 non-null    object\n",
      " 3   Temperature  244 non-null    object\n",
      " 4   RH           244 non-null    object\n",
      " 5   Ws           244 non-null    object\n",
      " 6   Rain         244 non-null    object\n",
      " 7   FFMC         244 non-null    object\n",
      " 8   DMC          244 non-null    object\n",
      " 9   DC           244 non-null    object\n",
      " 10  ISI          244 non-null    object\n",
      " 11  BUI          244 non-null    object\n",
      " 12  FWI          244 non-null    object\n",
      " 13  Classes      243 non-null    object\n",
      "dtypes: object(14)\n",
      "memory usage: 28.6+ KB\n"
     ]
    }
   ],
   "source": [
    "## Detailed information of each features in the dataset\n",
    "data.info()"
   ]
  },
  {
   "cell_type": "markdown",
   "id": "990397ad",
   "metadata": {},
   "source": [
    "###### Observation:\n",
    "    - There are some features which should be converted to int and float type there is some data discriminacy\n",
    "        in the dataset which need to be preprocessed"
   ]
  },
  {
   "cell_type": "code",
   "execution_count": 311,
   "id": "9b39dd1b",
   "metadata": {},
   "outputs": [
    {
     "data": {
      "text/plain": [
       "day            0\n",
       "month          0\n",
       "year           0\n",
       "Temperature    0\n",
       "RH             0\n",
       "Ws             0\n",
       "Rain           0\n",
       "FFMC           0\n",
       "DMC            0\n",
       "DC             0\n",
       "ISI            0\n",
       "BUI            0\n",
       "FWI            0\n",
       "Classes        1\n",
       "dtype: int64"
      ]
     },
     "execution_count": 311,
     "metadata": {},
     "output_type": "execute_result"
    }
   ],
   "source": [
    "data.isnull().sum()"
   ]
  },
  {
   "cell_type": "markdown",
   "id": "b9df8dcc",
   "metadata": {},
   "source": [
    "###### Observation:\n",
    "    - There is one record which is null in the feature Classes"
   ]
  },
  {
   "cell_type": "code",
   "execution_count": 312,
   "id": "6d79f6c3",
   "metadata": {},
   "outputs": [
    {
     "data": {
      "text/plain": [
       "dtype('O')"
      ]
     },
     "execution_count": 312,
     "metadata": {},
     "output_type": "execute_result"
    }
   ],
   "source": [
    "## Checking the datatype of FWI feature\n",
    "data['FWI'].dtype"
   ]
  },
  {
   "cell_type": "code",
   "execution_count": 313,
   "id": "e70f0782",
   "metadata": {},
   "outputs": [
    {
     "data": {
      "text/plain": [
       "(244,)"
      ]
     },
     "execution_count": 313,
     "metadata": {},
     "output_type": "execute_result"
    }
   ],
   "source": [
    "## Checking the Shape of FWI feature\n",
    "data['FWI'].shape"
   ]
  },
  {
   "cell_type": "markdown",
   "id": "ff22bac8",
   "metadata": {},
   "source": [
    "### Converting the Feature Datatype"
   ]
  },
  {
   "cell_type": "code",
   "execution_count": 314,
   "id": "1e5846bf",
   "metadata": {},
   "outputs": [],
   "source": [
    "### Rain,FFMC,DMC,DC,ISI,BUI,FWI has object type\n",
    "float_var=['Rain','FFMC','DMC','DC','ISI','BUI','FWI']"
   ]
  },
  {
   "cell_type": "code",
   "execution_count": 315,
   "id": "cbe8f2a6",
   "metadata": {},
   "outputs": [],
   "source": [
    "### All the features which are in float_var are converted to float type\n",
    "for col in float_var:\n",
    "    data[col] = data[col].apply(pd.to_numeric, downcast='float', errors='coerce')"
   ]
  },
  {
   "cell_type": "code",
   "execution_count": 316,
   "id": "dbec0336",
   "metadata": {},
   "outputs": [
    {
     "data": {
      "text/plain": [
       "day             object\n",
       "month           object\n",
       "year            object\n",
       "Temperature     object\n",
       "RH              object\n",
       "Ws              object\n",
       "Rain           float32\n",
       "FFMC           float32\n",
       "DMC            float32\n",
       "DC             float32\n",
       "ISI            float32\n",
       "BUI            float32\n",
       "FWI            float32\n",
       "Classes         object\n",
       "dtype: object"
      ]
     },
     "execution_count": 316,
     "metadata": {},
     "output_type": "execute_result"
    }
   ],
   "source": [
    "data.dtypes"
   ]
  },
  {
   "cell_type": "code",
   "execution_count": 317,
   "id": "d46f5bb6",
   "metadata": {},
   "outputs": [],
   "source": [
    "### day,month,year,Temperature,RH,Ws are in object type\n",
    "num_var=['day','month','year','Temperature','RH','Ws']"
   ]
  },
  {
   "cell_type": "code",
   "execution_count": 318,
   "id": "816fe607",
   "metadata": {},
   "outputs": [],
   "source": [
    "### All the features in num_var are converted into int type\n",
    "for col in num_var:\n",
    "    data[col]=data[col].astype('int')"
   ]
  },
  {
   "cell_type": "code",
   "execution_count": 319,
   "id": "7f113d68",
   "metadata": {},
   "outputs": [
    {
     "data": {
      "text/plain": [
       "day              int32\n",
       "month            int32\n",
       "year             int32\n",
       "Temperature      int32\n",
       "RH               int32\n",
       "Ws               int32\n",
       "Rain           float32\n",
       "FFMC           float32\n",
       "DMC            float32\n",
       "DC             float32\n",
       "ISI            float32\n",
       "BUI            float32\n",
       "FWI            float32\n",
       "Classes         object\n",
       "dtype: object"
      ]
     },
     "execution_count": 319,
     "metadata": {},
     "output_type": "execute_result"
    }
   ],
   "source": [
    "data.dtypes"
   ]
  },
  {
   "cell_type": "code",
   "execution_count": 320,
   "id": "0282e633",
   "metadata": {},
   "outputs": [
    {
     "data": {
      "text/html": [
       "<div>\n",
       "<style scoped>\n",
       "    .dataframe tbody tr th:only-of-type {\n",
       "        vertical-align: middle;\n",
       "    }\n",
       "\n",
       "    .dataframe tbody tr th {\n",
       "        vertical-align: top;\n",
       "    }\n",
       "\n",
       "    .dataframe thead th {\n",
       "        text-align: right;\n",
       "    }\n",
       "</style>\n",
       "<table border=\"1\" class=\"dataframe\">\n",
       "  <thead>\n",
       "    <tr style=\"text-align: right;\">\n",
       "      <th></th>\n",
       "      <th>day</th>\n",
       "      <th>month</th>\n",
       "      <th>year</th>\n",
       "      <th>Temperature</th>\n",
       "      <th>RH</th>\n",
       "      <th>Ws</th>\n",
       "      <th>Rain</th>\n",
       "      <th>FFMC</th>\n",
       "      <th>DMC</th>\n",
       "      <th>DC</th>\n",
       "      <th>ISI</th>\n",
       "      <th>BUI</th>\n",
       "      <th>FWI</th>\n",
       "      <th>Classes</th>\n",
       "    </tr>\n",
       "  </thead>\n",
       "  <tbody>\n",
       "    <tr>\n",
       "      <th>0</th>\n",
       "      <td>1</td>\n",
       "      <td>6</td>\n",
       "      <td>2012</td>\n",
       "      <td>29</td>\n",
       "      <td>57</td>\n",
       "      <td>18</td>\n",
       "      <td>0.0</td>\n",
       "      <td>65.699997</td>\n",
       "      <td>3.4</td>\n",
       "      <td>7.6</td>\n",
       "      <td>1.3</td>\n",
       "      <td>3.4</td>\n",
       "      <td>0.5</td>\n",
       "      <td>not fire</td>\n",
       "    </tr>\n",
       "    <tr>\n",
       "      <th>1</th>\n",
       "      <td>2</td>\n",
       "      <td>6</td>\n",
       "      <td>2012</td>\n",
       "      <td>29</td>\n",
       "      <td>61</td>\n",
       "      <td>13</td>\n",
       "      <td>1.3</td>\n",
       "      <td>64.400002</td>\n",
       "      <td>4.1</td>\n",
       "      <td>7.6</td>\n",
       "      <td>1.0</td>\n",
       "      <td>3.9</td>\n",
       "      <td>0.4</td>\n",
       "      <td>not fire</td>\n",
       "    </tr>\n",
       "    <tr>\n",
       "      <th>2</th>\n",
       "      <td>3</td>\n",
       "      <td>6</td>\n",
       "      <td>2012</td>\n",
       "      <td>26</td>\n",
       "      <td>82</td>\n",
       "      <td>22</td>\n",
       "      <td>13.1</td>\n",
       "      <td>47.099998</td>\n",
       "      <td>2.5</td>\n",
       "      <td>7.1</td>\n",
       "      <td>0.3</td>\n",
       "      <td>2.7</td>\n",
       "      <td>0.1</td>\n",
       "      <td>not fire</td>\n",
       "    </tr>\n",
       "    <tr>\n",
       "      <th>3</th>\n",
       "      <td>4</td>\n",
       "      <td>6</td>\n",
       "      <td>2012</td>\n",
       "      <td>25</td>\n",
       "      <td>89</td>\n",
       "      <td>13</td>\n",
       "      <td>2.5</td>\n",
       "      <td>28.600000</td>\n",
       "      <td>1.3</td>\n",
       "      <td>6.9</td>\n",
       "      <td>0.0</td>\n",
       "      <td>1.7</td>\n",
       "      <td>0.0</td>\n",
       "      <td>not fire</td>\n",
       "    </tr>\n",
       "    <tr>\n",
       "      <th>4</th>\n",
       "      <td>5</td>\n",
       "      <td>6</td>\n",
       "      <td>2012</td>\n",
       "      <td>27</td>\n",
       "      <td>77</td>\n",
       "      <td>16</td>\n",
       "      <td>0.0</td>\n",
       "      <td>64.800003</td>\n",
       "      <td>3.0</td>\n",
       "      <td>14.2</td>\n",
       "      <td>1.2</td>\n",
       "      <td>3.9</td>\n",
       "      <td>0.5</td>\n",
       "      <td>not fire</td>\n",
       "    </tr>\n",
       "  </tbody>\n",
       "</table>\n",
       "</div>"
      ],
      "text/plain": [
       "   day  month  year  Temperature  RH  Ws  Rain       FFMC  DMC    DC  ISI  \\\n",
       "0    1      6  2012           29  57  18   0.0  65.699997  3.4   7.6  1.3   \n",
       "1    2      6  2012           29  61  13   1.3  64.400002  4.1   7.6  1.0   \n",
       "2    3      6  2012           26  82  22  13.1  47.099998  2.5   7.1  0.3   \n",
       "3    4      6  2012           25  89  13   2.5  28.600000  1.3   6.9  0.0   \n",
       "4    5      6  2012           27  77  16   0.0  64.800003  3.0  14.2  1.2   \n",
       "\n",
       "   BUI  FWI      Classes  \n",
       "0  3.4  0.5  not fire     \n",
       "1  3.9  0.4  not fire     \n",
       "2  2.7  0.1  not fire     \n",
       "3  1.7  0.0  not fire     \n",
       "4  3.9  0.5  not fire     "
      ]
     },
     "execution_count": 320,
     "metadata": {},
     "output_type": "execute_result"
    }
   ],
   "source": [
    "data.head()"
   ]
  },
  {
   "cell_type": "markdown",
   "id": "f82a5e09",
   "metadata": {},
   "source": [
    "### Statistical Analysis"
   ]
  },
  {
   "cell_type": "code",
   "execution_count": 321,
   "id": "4652d761",
   "metadata": {},
   "outputs": [],
   "source": [
    "### Storing All the numerical variable in num_col\n",
    "num_col=data[data.dtypes[(data.dtypes=='int') | (data.dtypes=='float')|(data.dtypes=='float32')].index]"
   ]
  },
  {
   "cell_type": "code",
   "execution_count": 322,
   "id": "ba5c3412",
   "metadata": {},
   "outputs": [
    {
     "data": {
      "text/html": [
       "<div>\n",
       "<style scoped>\n",
       "    .dataframe tbody tr th:only-of-type {\n",
       "        vertical-align: middle;\n",
       "    }\n",
       "\n",
       "    .dataframe tbody tr th {\n",
       "        vertical-align: top;\n",
       "    }\n",
       "\n",
       "    .dataframe thead th {\n",
       "        text-align: right;\n",
       "    }\n",
       "</style>\n",
       "<table border=\"1\" class=\"dataframe\">\n",
       "  <thead>\n",
       "    <tr style=\"text-align: right;\">\n",
       "      <th></th>\n",
       "      <th>count</th>\n",
       "      <th>mean</th>\n",
       "      <th>std</th>\n",
       "      <th>min</th>\n",
       "      <th>25%</th>\n",
       "      <th>50%</th>\n",
       "      <th>75%</th>\n",
       "      <th>max</th>\n",
       "    </tr>\n",
       "  </thead>\n",
       "  <tbody>\n",
       "    <tr>\n",
       "      <th>day</th>\n",
       "      <td>244.0</td>\n",
       "      <td>15.754098</td>\n",
       "      <td>8.825059</td>\n",
       "      <td>1.0</td>\n",
       "      <td>8.000000</td>\n",
       "      <td>16.000000</td>\n",
       "      <td>23.000000</td>\n",
       "      <td>31.000000</td>\n",
       "    </tr>\n",
       "    <tr>\n",
       "      <th>month</th>\n",
       "      <td>244.0</td>\n",
       "      <td>7.500000</td>\n",
       "      <td>1.112961</td>\n",
       "      <td>6.0</td>\n",
       "      <td>7.000000</td>\n",
       "      <td>7.500000</td>\n",
       "      <td>8.000000</td>\n",
       "      <td>9.000000</td>\n",
       "    </tr>\n",
       "    <tr>\n",
       "      <th>year</th>\n",
       "      <td>244.0</td>\n",
       "      <td>2012.000000</td>\n",
       "      <td>0.000000</td>\n",
       "      <td>2012.0</td>\n",
       "      <td>2012.000000</td>\n",
       "      <td>2012.000000</td>\n",
       "      <td>2012.000000</td>\n",
       "      <td>2012.000000</td>\n",
       "    </tr>\n",
       "    <tr>\n",
       "      <th>Temperature</th>\n",
       "      <td>244.0</td>\n",
       "      <td>32.172131</td>\n",
       "      <td>3.633843</td>\n",
       "      <td>22.0</td>\n",
       "      <td>30.000000</td>\n",
       "      <td>32.000000</td>\n",
       "      <td>35.000000</td>\n",
       "      <td>42.000000</td>\n",
       "    </tr>\n",
       "    <tr>\n",
       "      <th>RH</th>\n",
       "      <td>244.0</td>\n",
       "      <td>61.938525</td>\n",
       "      <td>14.884200</td>\n",
       "      <td>21.0</td>\n",
       "      <td>52.000000</td>\n",
       "      <td>63.000000</td>\n",
       "      <td>73.250000</td>\n",
       "      <td>90.000000</td>\n",
       "    </tr>\n",
       "    <tr>\n",
       "      <th>Ws</th>\n",
       "      <td>244.0</td>\n",
       "      <td>15.504098</td>\n",
       "      <td>2.810178</td>\n",
       "      <td>6.0</td>\n",
       "      <td>14.000000</td>\n",
       "      <td>15.000000</td>\n",
       "      <td>17.000000</td>\n",
       "      <td>29.000000</td>\n",
       "    </tr>\n",
       "    <tr>\n",
       "      <th>Rain</th>\n",
       "      <td>244.0</td>\n",
       "      <td>0.760656</td>\n",
       "      <td>1.999407</td>\n",
       "      <td>0.0</td>\n",
       "      <td>0.000000</td>\n",
       "      <td>0.000000</td>\n",
       "      <td>0.500000</td>\n",
       "      <td>16.799999</td>\n",
       "    </tr>\n",
       "    <tr>\n",
       "      <th>FFMC</th>\n",
       "      <td>244.0</td>\n",
       "      <td>77.887680</td>\n",
       "      <td>14.337568</td>\n",
       "      <td>28.6</td>\n",
       "      <td>72.075003</td>\n",
       "      <td>83.500000</td>\n",
       "      <td>88.300003</td>\n",
       "      <td>96.000000</td>\n",
       "    </tr>\n",
       "    <tr>\n",
       "      <th>DMC</th>\n",
       "      <td>244.0</td>\n",
       "      <td>14.673360</td>\n",
       "      <td>12.368040</td>\n",
       "      <td>0.7</td>\n",
       "      <td>5.800000</td>\n",
       "      <td>11.300000</td>\n",
       "      <td>20.750000</td>\n",
       "      <td>65.900002</td>\n",
       "    </tr>\n",
       "    <tr>\n",
       "      <th>DC</th>\n",
       "      <td>243.0</td>\n",
       "      <td>49.430847</td>\n",
       "      <td>47.665600</td>\n",
       "      <td>6.9</td>\n",
       "      <td>12.350000</td>\n",
       "      <td>33.099998</td>\n",
       "      <td>69.099998</td>\n",
       "      <td>220.399994</td>\n",
       "    </tr>\n",
       "    <tr>\n",
       "      <th>ISI</th>\n",
       "      <td>244.0</td>\n",
       "      <td>4.774180</td>\n",
       "      <td>4.175318</td>\n",
       "      <td>0.0</td>\n",
       "      <td>1.400000</td>\n",
       "      <td>3.500000</td>\n",
       "      <td>7.300000</td>\n",
       "      <td>19.000000</td>\n",
       "    </tr>\n",
       "    <tr>\n",
       "      <th>BUI</th>\n",
       "      <td>244.0</td>\n",
       "      <td>16.664747</td>\n",
       "      <td>14.204824</td>\n",
       "      <td>1.1</td>\n",
       "      <td>6.000000</td>\n",
       "      <td>12.250000</td>\n",
       "      <td>22.525000</td>\n",
       "      <td>68.000000</td>\n",
       "    </tr>\n",
       "    <tr>\n",
       "      <th>FWI</th>\n",
       "      <td>243.0</td>\n",
       "      <td>7.035391</td>\n",
       "      <td>7.440567</td>\n",
       "      <td>0.0</td>\n",
       "      <td>0.700000</td>\n",
       "      <td>4.200000</td>\n",
       "      <td>11.450001</td>\n",
       "      <td>31.100000</td>\n",
       "    </tr>\n",
       "  </tbody>\n",
       "</table>\n",
       "</div>"
      ],
      "text/plain": [
       "             count         mean        std     min          25%          50%  \\\n",
       "day          244.0    15.754098   8.825059     1.0     8.000000    16.000000   \n",
       "month        244.0     7.500000   1.112961     6.0     7.000000     7.500000   \n",
       "year         244.0  2012.000000   0.000000  2012.0  2012.000000  2012.000000   \n",
       "Temperature  244.0    32.172131   3.633843    22.0    30.000000    32.000000   \n",
       "RH           244.0    61.938525  14.884200    21.0    52.000000    63.000000   \n",
       "Ws           244.0    15.504098   2.810178     6.0    14.000000    15.000000   \n",
       "Rain         244.0     0.760656   1.999407     0.0     0.000000     0.000000   \n",
       "FFMC         244.0    77.887680  14.337568    28.6    72.075003    83.500000   \n",
       "DMC          244.0    14.673360  12.368040     0.7     5.800000    11.300000   \n",
       "DC           243.0    49.430847  47.665600     6.9    12.350000    33.099998   \n",
       "ISI          244.0     4.774180   4.175318     0.0     1.400000     3.500000   \n",
       "BUI          244.0    16.664747  14.204824     1.1     6.000000    12.250000   \n",
       "FWI          243.0     7.035391   7.440567     0.0     0.700000     4.200000   \n",
       "\n",
       "                     75%          max  \n",
       "day            23.000000    31.000000  \n",
       "month           8.000000     9.000000  \n",
       "year         2012.000000  2012.000000  \n",
       "Temperature    35.000000    42.000000  \n",
       "RH             73.250000    90.000000  \n",
       "Ws             17.000000    29.000000  \n",
       "Rain            0.500000    16.799999  \n",
       "FFMC           88.300003    96.000000  \n",
       "DMC            20.750000    65.900002  \n",
       "DC             69.099998   220.399994  \n",
       "ISI             7.300000    19.000000  \n",
       "BUI            22.525000    68.000000  \n",
       "FWI            11.450001    31.100000  "
      ]
     },
     "execution_count": 322,
     "metadata": {},
     "output_type": "execute_result"
    }
   ],
   "source": [
    "### Describing the stastical analysis of the data \n",
    "num_col.describe().T"
   ]
  },
  {
   "cell_type": "markdown",
   "id": "36e1cba3",
   "metadata": {},
   "source": [
    "###### Observation\n",
    "    1. Rain Feature is highly skewed on the right \n",
    "    2. year feature is not required as it has only one unique value through out the dataset \n",
    "    3. Rain Features has some outliers\n",
    "    4. BUI also right skewed and has some outliers"
   ]
  },
  {
   "cell_type": "markdown",
   "id": "9c334baf",
   "metadata": {},
   "source": [
    "### Drop the year Feature"
   ]
  },
  {
   "cell_type": "code",
   "execution_count": 323,
   "id": "538fa631",
   "metadata": {},
   "outputs": [
    {
     "data": {
      "text/plain": [
       "array([2012])"
      ]
     },
     "execution_count": 323,
     "metadata": {},
     "output_type": "execute_result"
    }
   ],
   "source": [
    "### Unique values in the year featue\n",
    "num_col['year'].unique()"
   ]
  },
  {
   "cell_type": "markdown",
   "id": "9823a65d",
   "metadata": {},
   "source": [
    "###### Observation:\n",
    "    - As there is only one year it has been analysed for both the regions \n",
    "      it can be dropped from the dataset"
   ]
  },
  {
   "cell_type": "code",
   "execution_count": 324,
   "id": "6034f9dd",
   "metadata": {},
   "outputs": [],
   "source": [
    "### Droping the year feature\n",
    "num_col.drop(labels=['year'],axis=1,inplace=True)"
   ]
  },
  {
   "cell_type": "code",
   "execution_count": 325,
   "id": "7a42f3b7",
   "metadata": {},
   "outputs": [
    {
     "data": {
      "text/html": [
       "<div>\n",
       "<style scoped>\n",
       "    .dataframe tbody tr th:only-of-type {\n",
       "        vertical-align: middle;\n",
       "    }\n",
       "\n",
       "    .dataframe tbody tr th {\n",
       "        vertical-align: top;\n",
       "    }\n",
       "\n",
       "    .dataframe thead th {\n",
       "        text-align: right;\n",
       "    }\n",
       "</style>\n",
       "<table border=\"1\" class=\"dataframe\">\n",
       "  <thead>\n",
       "    <tr style=\"text-align: right;\">\n",
       "      <th></th>\n",
       "      <th>day</th>\n",
       "      <th>month</th>\n",
       "      <th>Temperature</th>\n",
       "      <th>RH</th>\n",
       "      <th>Ws</th>\n",
       "      <th>Rain</th>\n",
       "      <th>FFMC</th>\n",
       "      <th>DMC</th>\n",
       "      <th>DC</th>\n",
       "      <th>ISI</th>\n",
       "      <th>BUI</th>\n",
       "      <th>FWI</th>\n",
       "    </tr>\n",
       "  </thead>\n",
       "  <tbody>\n",
       "    <tr>\n",
       "      <th>0</th>\n",
       "      <td>1</td>\n",
       "      <td>6</td>\n",
       "      <td>29</td>\n",
       "      <td>57</td>\n",
       "      <td>18</td>\n",
       "      <td>0.0</td>\n",
       "      <td>65.699997</td>\n",
       "      <td>3.4</td>\n",
       "      <td>7.6</td>\n",
       "      <td>1.3</td>\n",
       "      <td>3.4</td>\n",
       "      <td>0.5</td>\n",
       "    </tr>\n",
       "    <tr>\n",
       "      <th>1</th>\n",
       "      <td>2</td>\n",
       "      <td>6</td>\n",
       "      <td>29</td>\n",
       "      <td>61</td>\n",
       "      <td>13</td>\n",
       "      <td>1.3</td>\n",
       "      <td>64.400002</td>\n",
       "      <td>4.1</td>\n",
       "      <td>7.6</td>\n",
       "      <td>1.0</td>\n",
       "      <td>3.9</td>\n",
       "      <td>0.4</td>\n",
       "    </tr>\n",
       "    <tr>\n",
       "      <th>2</th>\n",
       "      <td>3</td>\n",
       "      <td>6</td>\n",
       "      <td>26</td>\n",
       "      <td>82</td>\n",
       "      <td>22</td>\n",
       "      <td>13.1</td>\n",
       "      <td>47.099998</td>\n",
       "      <td>2.5</td>\n",
       "      <td>7.1</td>\n",
       "      <td>0.3</td>\n",
       "      <td>2.7</td>\n",
       "      <td>0.1</td>\n",
       "    </tr>\n",
       "    <tr>\n",
       "      <th>3</th>\n",
       "      <td>4</td>\n",
       "      <td>6</td>\n",
       "      <td>25</td>\n",
       "      <td>89</td>\n",
       "      <td>13</td>\n",
       "      <td>2.5</td>\n",
       "      <td>28.600000</td>\n",
       "      <td>1.3</td>\n",
       "      <td>6.9</td>\n",
       "      <td>0.0</td>\n",
       "      <td>1.7</td>\n",
       "      <td>0.0</td>\n",
       "    </tr>\n",
       "    <tr>\n",
       "      <th>4</th>\n",
       "      <td>5</td>\n",
       "      <td>6</td>\n",
       "      <td>27</td>\n",
       "      <td>77</td>\n",
       "      <td>16</td>\n",
       "      <td>0.0</td>\n",
       "      <td>64.800003</td>\n",
       "      <td>3.0</td>\n",
       "      <td>14.2</td>\n",
       "      <td>1.2</td>\n",
       "      <td>3.9</td>\n",
       "      <td>0.5</td>\n",
       "    </tr>\n",
       "  </tbody>\n",
       "</table>\n",
       "</div>"
      ],
      "text/plain": [
       "   day  month  Temperature  RH  Ws  Rain       FFMC  DMC    DC  ISI  BUI  FWI\n",
       "0    1      6           29  57  18   0.0  65.699997  3.4   7.6  1.3  3.4  0.5\n",
       "1    2      6           29  61  13   1.3  64.400002  4.1   7.6  1.0  3.9  0.4\n",
       "2    3      6           26  82  22  13.1  47.099998  2.5   7.1  0.3  2.7  0.1\n",
       "3    4      6           25  89  13   2.5  28.600000  1.3   6.9  0.0  1.7  0.0\n",
       "4    5      6           27  77  16   0.0  64.800003  3.0  14.2  1.2  3.9  0.5"
      ]
     },
     "execution_count": 325,
     "metadata": {},
     "output_type": "execute_result"
    }
   ],
   "source": [
    "num_col.head()"
   ]
  },
  {
   "cell_type": "markdown",
   "id": "5708f019",
   "metadata": {},
   "source": [
    "### Correlation between the features"
   ]
  },
  {
   "cell_type": "code",
   "execution_count": 326,
   "id": "4c1f7ad0",
   "metadata": {},
   "outputs": [
    {
     "data": {
      "text/html": [
       "<div>\n",
       "<style scoped>\n",
       "    .dataframe tbody tr th:only-of-type {\n",
       "        vertical-align: middle;\n",
       "    }\n",
       "\n",
       "    .dataframe tbody tr th {\n",
       "        vertical-align: top;\n",
       "    }\n",
       "\n",
       "    .dataframe thead th {\n",
       "        text-align: right;\n",
       "    }\n",
       "</style>\n",
       "<table border=\"1\" class=\"dataframe\">\n",
       "  <thead>\n",
       "    <tr style=\"text-align: right;\">\n",
       "      <th></th>\n",
       "      <th>day</th>\n",
       "      <th>month</th>\n",
       "      <th>Temperature</th>\n",
       "      <th>RH</th>\n",
       "      <th>Ws</th>\n",
       "      <th>Rain</th>\n",
       "      <th>FFMC</th>\n",
       "      <th>DMC</th>\n",
       "      <th>DC</th>\n",
       "      <th>ISI</th>\n",
       "      <th>BUI</th>\n",
       "      <th>FWI</th>\n",
       "    </tr>\n",
       "  </thead>\n",
       "  <tbody>\n",
       "    <tr>\n",
       "      <th>day</th>\n",
       "      <td>1.000000e+00</td>\n",
       "      <td>2.232788e-17</td>\n",
       "      <td>0.095772</td>\n",
       "      <td>-0.074209</td>\n",
       "      <td>0.047001</td>\n",
       "      <td>-0.112265</td>\n",
       "      <td>0.224032</td>\n",
       "      <td>0.491571</td>\n",
       "      <td>0.527952</td>\n",
       "      <td>0.177727</td>\n",
       "      <td>0.517229</td>\n",
       "      <td>0.350781</td>\n",
       "    </tr>\n",
       "    <tr>\n",
       "      <th>month</th>\n",
       "      <td>2.232788e-17</td>\n",
       "      <td>1.000000e+00</td>\n",
       "      <td>-0.059017</td>\n",
       "      <td>-0.037884</td>\n",
       "      <td>-0.041447</td>\n",
       "      <td>0.035322</td>\n",
       "      <td>0.015577</td>\n",
       "      <td>0.068178</td>\n",
       "      <td>0.126511</td>\n",
       "      <td>0.061680</td>\n",
       "      <td>0.085822</td>\n",
       "      <td>0.082639</td>\n",
       "    </tr>\n",
       "    <tr>\n",
       "      <th>Temperature</th>\n",
       "      <td>9.577222e-02</td>\n",
       "      <td>-5.901677e-02</td>\n",
       "      <td>1.000000</td>\n",
       "      <td>-0.654443</td>\n",
       "      <td>-0.278132</td>\n",
       "      <td>-0.326786</td>\n",
       "      <td>0.677491</td>\n",
       "      <td>0.483105</td>\n",
       "      <td>0.376284</td>\n",
       "      <td>0.607551</td>\n",
       "      <td>0.455504</td>\n",
       "      <td>0.566670</td>\n",
       "    </tr>\n",
       "    <tr>\n",
       "      <th>RH</th>\n",
       "      <td>-7.420934e-02</td>\n",
       "      <td>-3.788419e-02</td>\n",
       "      <td>-0.654443</td>\n",
       "      <td>1.000000</td>\n",
       "      <td>0.236084</td>\n",
       "      <td>0.222968</td>\n",
       "      <td>-0.645658</td>\n",
       "      <td>-0.405133</td>\n",
       "      <td>-0.226941</td>\n",
       "      <td>-0.690637</td>\n",
       "      <td>-0.348587</td>\n",
       "      <td>-0.580957</td>\n",
       "    </tr>\n",
       "    <tr>\n",
       "      <th>Ws</th>\n",
       "      <td>4.700086e-02</td>\n",
       "      <td>-4.144673e-02</td>\n",
       "      <td>-0.278132</td>\n",
       "      <td>0.236084</td>\n",
       "      <td>1.000000</td>\n",
       "      <td>0.170169</td>\n",
       "      <td>-0.163255</td>\n",
       "      <td>-0.001246</td>\n",
       "      <td>0.079135</td>\n",
       "      <td>0.015248</td>\n",
       "      <td>0.029756</td>\n",
       "      <td>0.032368</td>\n",
       "    </tr>\n",
       "    <tr>\n",
       "      <th>Rain</th>\n",
       "      <td>-1.122654e-01</td>\n",
       "      <td>3.532207e-02</td>\n",
       "      <td>-0.326786</td>\n",
       "      <td>0.222968</td>\n",
       "      <td>0.170169</td>\n",
       "      <td>1.000000</td>\n",
       "      <td>-0.544045</td>\n",
       "      <td>-0.288548</td>\n",
       "      <td>-0.298023</td>\n",
       "      <td>-0.347105</td>\n",
       "      <td>-0.299171</td>\n",
       "      <td>-0.324422</td>\n",
       "    </tr>\n",
       "    <tr>\n",
       "      <th>FFMC</th>\n",
       "      <td>2.240321e-01</td>\n",
       "      <td>1.557669e-02</td>\n",
       "      <td>0.677491</td>\n",
       "      <td>-0.645658</td>\n",
       "      <td>-0.163255</td>\n",
       "      <td>-0.544045</td>\n",
       "      <td>1.000000</td>\n",
       "      <td>0.602391</td>\n",
       "      <td>0.507397</td>\n",
       "      <td>0.739730</td>\n",
       "      <td>0.589652</td>\n",
       "      <td>0.691132</td>\n",
       "    </tr>\n",
       "    <tr>\n",
       "      <th>DMC</th>\n",
       "      <td>4.915710e-01</td>\n",
       "      <td>6.817778e-02</td>\n",
       "      <td>0.483105</td>\n",
       "      <td>-0.405133</td>\n",
       "      <td>-0.001246</td>\n",
       "      <td>-0.288548</td>\n",
       "      <td>0.602391</td>\n",
       "      <td>1.000000</td>\n",
       "      <td>0.875925</td>\n",
       "      <td>0.674499</td>\n",
       "      <td>0.982073</td>\n",
       "      <td>0.875864</td>\n",
       "    </tr>\n",
       "    <tr>\n",
       "      <th>DC</th>\n",
       "      <td>5.279524e-01</td>\n",
       "      <td>1.265111e-01</td>\n",
       "      <td>0.376284</td>\n",
       "      <td>-0.226941</td>\n",
       "      <td>0.079135</td>\n",
       "      <td>-0.298023</td>\n",
       "      <td>0.507397</td>\n",
       "      <td>0.875925</td>\n",
       "      <td>1.000000</td>\n",
       "      <td>0.508643</td>\n",
       "      <td>0.941988</td>\n",
       "      <td>0.739521</td>\n",
       "    </tr>\n",
       "    <tr>\n",
       "      <th>ISI</th>\n",
       "      <td>1.777266e-01</td>\n",
       "      <td>6.168012e-02</td>\n",
       "      <td>0.607551</td>\n",
       "      <td>-0.690637</td>\n",
       "      <td>0.015248</td>\n",
       "      <td>-0.347105</td>\n",
       "      <td>0.739730</td>\n",
       "      <td>0.674499</td>\n",
       "      <td>0.508643</td>\n",
       "      <td>1.000000</td>\n",
       "      <td>0.635891</td>\n",
       "      <td>0.922895</td>\n",
       "    </tr>\n",
       "    <tr>\n",
       "      <th>BUI</th>\n",
       "      <td>5.172292e-01</td>\n",
       "      <td>8.582162e-02</td>\n",
       "      <td>0.455504</td>\n",
       "      <td>-0.348587</td>\n",
       "      <td>0.029756</td>\n",
       "      <td>-0.299171</td>\n",
       "      <td>0.589652</td>\n",
       "      <td>0.982073</td>\n",
       "      <td>0.941988</td>\n",
       "      <td>0.635891</td>\n",
       "      <td>1.000000</td>\n",
       "      <td>0.857973</td>\n",
       "    </tr>\n",
       "    <tr>\n",
       "      <th>FWI</th>\n",
       "      <td>3.507809e-01</td>\n",
       "      <td>8.263884e-02</td>\n",
       "      <td>0.566670</td>\n",
       "      <td>-0.580957</td>\n",
       "      <td>0.032368</td>\n",
       "      <td>-0.324422</td>\n",
       "      <td>0.691132</td>\n",
       "      <td>0.875864</td>\n",
       "      <td>0.739521</td>\n",
       "      <td>0.922895</td>\n",
       "      <td>0.857973</td>\n",
       "      <td>1.000000</td>\n",
       "    </tr>\n",
       "  </tbody>\n",
       "</table>\n",
       "</div>"
      ],
      "text/plain": [
       "                      day         month  Temperature        RH        Ws  \\\n",
       "day          1.000000e+00  2.232788e-17     0.095772 -0.074209  0.047001   \n",
       "month        2.232788e-17  1.000000e+00    -0.059017 -0.037884 -0.041447   \n",
       "Temperature  9.577222e-02 -5.901677e-02     1.000000 -0.654443 -0.278132   \n",
       "RH          -7.420934e-02 -3.788419e-02    -0.654443  1.000000  0.236084   \n",
       "Ws           4.700086e-02 -4.144673e-02    -0.278132  0.236084  1.000000   \n",
       "Rain        -1.122654e-01  3.532207e-02    -0.326786  0.222968  0.170169   \n",
       "FFMC         2.240321e-01  1.557669e-02     0.677491 -0.645658 -0.163255   \n",
       "DMC          4.915710e-01  6.817778e-02     0.483105 -0.405133 -0.001246   \n",
       "DC           5.279524e-01  1.265111e-01     0.376284 -0.226941  0.079135   \n",
       "ISI          1.777266e-01  6.168012e-02     0.607551 -0.690637  0.015248   \n",
       "BUI          5.172292e-01  8.582162e-02     0.455504 -0.348587  0.029756   \n",
       "FWI          3.507809e-01  8.263884e-02     0.566670 -0.580957  0.032368   \n",
       "\n",
       "                 Rain      FFMC       DMC        DC       ISI       BUI  \\\n",
       "day         -0.112265  0.224032  0.491571  0.527952  0.177727  0.517229   \n",
       "month        0.035322  0.015577  0.068178  0.126511  0.061680  0.085822   \n",
       "Temperature -0.326786  0.677491  0.483105  0.376284  0.607551  0.455504   \n",
       "RH           0.222968 -0.645658 -0.405133 -0.226941 -0.690637 -0.348587   \n",
       "Ws           0.170169 -0.163255 -0.001246  0.079135  0.015248  0.029756   \n",
       "Rain         1.000000 -0.544045 -0.288548 -0.298023 -0.347105 -0.299171   \n",
       "FFMC        -0.544045  1.000000  0.602391  0.507397  0.739730  0.589652   \n",
       "DMC         -0.288548  0.602391  1.000000  0.875925  0.674499  0.982073   \n",
       "DC          -0.298023  0.507397  0.875925  1.000000  0.508643  0.941988   \n",
       "ISI         -0.347105  0.739730  0.674499  0.508643  1.000000  0.635891   \n",
       "BUI         -0.299171  0.589652  0.982073  0.941988  0.635891  1.000000   \n",
       "FWI         -0.324422  0.691132  0.875864  0.739521  0.922895  0.857973   \n",
       "\n",
       "                  FWI  \n",
       "day          0.350781  \n",
       "month        0.082639  \n",
       "Temperature  0.566670  \n",
       "RH          -0.580957  \n",
       "Ws           0.032368  \n",
       "Rain        -0.324422  \n",
       "FFMC         0.691132  \n",
       "DMC          0.875864  \n",
       "DC           0.739521  \n",
       "ISI          0.922895  \n",
       "BUI          0.857973  \n",
       "FWI          1.000000  "
      ]
     },
     "execution_count": 326,
     "metadata": {},
     "output_type": "execute_result"
    }
   ],
   "source": [
    "num_col.corr()"
   ]
  },
  {
   "cell_type": "markdown",
   "id": "17aa833c",
   "metadata": {},
   "source": [
    "###### Observation:\n",
    "    - Temperature and Fine Fuel Moisture Code (FFMC) are Positively Correlated .\n",
    "    - Temperature and Relative Humidity (RH) are Negatively Correlated .\n",
    "    - Temperature and Initial Spread Index (ISI) are Positively Correlated .\n",
    "    - Buildup Index (BUI) and Duff Moisture Code (DMC) are highly Correlated but both of them are independent variable \n",
    "      which leads to MultiCollinearity Which should be handled\n",
    "    -  Drought Code (DC) and Buildup Index (BUI) are also highly Correlated they also make MultiCollinearity"
   ]
  },
  {
   "cell_type": "code",
   "execution_count": 327,
   "id": "ffb78d65",
   "metadata": {},
   "outputs": [],
   "source": [
    "### Make a Copy of the DataFrame\n",
    "df=num_col.copy()"
   ]
  },
  {
   "cell_type": "code",
   "execution_count": 328,
   "id": "4a6c57fd",
   "metadata": {},
   "outputs": [],
   "source": [
    "### Appending the Classes feature in df \n",
    "df['Classes']=data['Classes']"
   ]
  },
  {
   "cell_type": "code",
   "execution_count": 329,
   "id": "27719698",
   "metadata": {},
   "outputs": [
    {
     "data": {
      "text/html": [
       "<div>\n",
       "<style scoped>\n",
       "    .dataframe tbody tr th:only-of-type {\n",
       "        vertical-align: middle;\n",
       "    }\n",
       "\n",
       "    .dataframe tbody tr th {\n",
       "        vertical-align: top;\n",
       "    }\n",
       "\n",
       "    .dataframe thead th {\n",
       "        text-align: right;\n",
       "    }\n",
       "</style>\n",
       "<table border=\"1\" class=\"dataframe\">\n",
       "  <thead>\n",
       "    <tr style=\"text-align: right;\">\n",
       "      <th></th>\n",
       "      <th>day</th>\n",
       "      <th>month</th>\n",
       "      <th>Temperature</th>\n",
       "      <th>RH</th>\n",
       "      <th>Ws</th>\n",
       "      <th>Rain</th>\n",
       "      <th>FFMC</th>\n",
       "      <th>DMC</th>\n",
       "      <th>DC</th>\n",
       "      <th>ISI</th>\n",
       "      <th>BUI</th>\n",
       "      <th>FWI</th>\n",
       "      <th>Classes</th>\n",
       "    </tr>\n",
       "  </thead>\n",
       "  <tbody>\n",
       "    <tr>\n",
       "      <th>0</th>\n",
       "      <td>1</td>\n",
       "      <td>6</td>\n",
       "      <td>29</td>\n",
       "      <td>57</td>\n",
       "      <td>18</td>\n",
       "      <td>0.0</td>\n",
       "      <td>65.699997</td>\n",
       "      <td>3.4</td>\n",
       "      <td>7.6</td>\n",
       "      <td>1.3</td>\n",
       "      <td>3.4</td>\n",
       "      <td>0.5</td>\n",
       "      <td>not fire</td>\n",
       "    </tr>\n",
       "    <tr>\n",
       "      <th>1</th>\n",
       "      <td>2</td>\n",
       "      <td>6</td>\n",
       "      <td>29</td>\n",
       "      <td>61</td>\n",
       "      <td>13</td>\n",
       "      <td>1.3</td>\n",
       "      <td>64.400002</td>\n",
       "      <td>4.1</td>\n",
       "      <td>7.6</td>\n",
       "      <td>1.0</td>\n",
       "      <td>3.9</td>\n",
       "      <td>0.4</td>\n",
       "      <td>not fire</td>\n",
       "    </tr>\n",
       "    <tr>\n",
       "      <th>2</th>\n",
       "      <td>3</td>\n",
       "      <td>6</td>\n",
       "      <td>26</td>\n",
       "      <td>82</td>\n",
       "      <td>22</td>\n",
       "      <td>13.1</td>\n",
       "      <td>47.099998</td>\n",
       "      <td>2.5</td>\n",
       "      <td>7.1</td>\n",
       "      <td>0.3</td>\n",
       "      <td>2.7</td>\n",
       "      <td>0.1</td>\n",
       "      <td>not fire</td>\n",
       "    </tr>\n",
       "    <tr>\n",
       "      <th>3</th>\n",
       "      <td>4</td>\n",
       "      <td>6</td>\n",
       "      <td>25</td>\n",
       "      <td>89</td>\n",
       "      <td>13</td>\n",
       "      <td>2.5</td>\n",
       "      <td>28.600000</td>\n",
       "      <td>1.3</td>\n",
       "      <td>6.9</td>\n",
       "      <td>0.0</td>\n",
       "      <td>1.7</td>\n",
       "      <td>0.0</td>\n",
       "      <td>not fire</td>\n",
       "    </tr>\n",
       "    <tr>\n",
       "      <th>4</th>\n",
       "      <td>5</td>\n",
       "      <td>6</td>\n",
       "      <td>27</td>\n",
       "      <td>77</td>\n",
       "      <td>16</td>\n",
       "      <td>0.0</td>\n",
       "      <td>64.800003</td>\n",
       "      <td>3.0</td>\n",
       "      <td>14.2</td>\n",
       "      <td>1.2</td>\n",
       "      <td>3.9</td>\n",
       "      <td>0.5</td>\n",
       "      <td>not fire</td>\n",
       "    </tr>\n",
       "  </tbody>\n",
       "</table>\n",
       "</div>"
      ],
      "text/plain": [
       "   day  month  Temperature  RH  Ws  Rain       FFMC  DMC    DC  ISI  BUI  FWI  \\\n",
       "0    1      6           29  57  18   0.0  65.699997  3.4   7.6  1.3  3.4  0.5   \n",
       "1    2      6           29  61  13   1.3  64.400002  4.1   7.6  1.0  3.9  0.4   \n",
       "2    3      6           26  82  22  13.1  47.099998  2.5   7.1  0.3  2.7  0.1   \n",
       "3    4      6           25  89  13   2.5  28.600000  1.3   6.9  0.0  1.7  0.0   \n",
       "4    5      6           27  77  16   0.0  64.800003  3.0  14.2  1.2  3.9  0.5   \n",
       "\n",
       "       Classes  \n",
       "0  not fire     \n",
       "1  not fire     \n",
       "2  not fire     \n",
       "3  not fire     \n",
       "4  not fire     "
      ]
     },
     "execution_count": 329,
     "metadata": {},
     "output_type": "execute_result"
    }
   ],
   "source": [
    "df.head()"
   ]
  },
  {
   "cell_type": "code",
   "execution_count": 330,
   "id": "4ca1b66c",
   "metadata": {},
   "outputs": [
    {
     "data": {
      "text/plain": [
       "array(['not fire   ', 'fire   ', 'fire', 'fire ', 'not fire', 'not fire ',\n",
       "       'not fire     ', nan, 'not fire    '], dtype=object)"
      ]
     },
     "execution_count": 330,
     "metadata": {},
     "output_type": "execute_result"
    }
   ],
   "source": [
    "### showing the unique values in the Classes feature\n",
    "df['Classes'].unique()"
   ]
  },
  {
   "cell_type": "markdown",
   "id": "4e2989e0",
   "metadata": {},
   "source": [
    "###### Observation:\n",
    "    - It seems that there are lot of spacing which should be stripped off."
   ]
  },
  {
   "cell_type": "code",
   "execution_count": 331,
   "id": "9e5d29e4",
   "metadata": {},
   "outputs": [],
   "source": [
    "### Stripping the object on both sides \n",
    "\n",
    "for i in df.columns:\n",
    "    if df[i].dtypes=='O':\n",
    "        df[i]=df[i].str.strip()"
   ]
  },
  {
   "cell_type": "code",
   "execution_count": 332,
   "id": "bf21b314",
   "metadata": {},
   "outputs": [
    {
     "data": {
      "text/plain": [
       "array(['not fire', 'fire', nan], dtype=object)"
      ]
     },
     "execution_count": 332,
     "metadata": {},
     "output_type": "execute_result"
    }
   ],
   "source": [
    "df['Classes'].unique()"
   ]
  },
  {
   "cell_type": "markdown",
   "id": "19e51bec",
   "metadata": {},
   "source": [
    "###### Observation:\n",
    "    - There is some null values in the Classes feature which should be preprocessed"
   ]
  },
  {
   "cell_type": "code",
   "execution_count": 333,
   "id": "f006de00",
   "metadata": {},
   "outputs": [
    {
     "data": {
      "text/plain": [
       "1"
      ]
     },
     "execution_count": 333,
     "metadata": {},
     "output_type": "execute_result"
    }
   ],
   "source": [
    "### There are one missing values which can be dropped off\n",
    "df['Classes'].isnull().sum()"
   ]
  },
  {
   "cell_type": "code",
   "execution_count": 334,
   "id": "b2c0442f",
   "metadata": {},
   "outputs": [
    {
     "data": {
      "text/plain": [
       "day            0\n",
       "month          0\n",
       "Temperature    0\n",
       "RH             0\n",
       "Ws             0\n",
       "Rain           0\n",
       "FFMC           0\n",
       "DMC            0\n",
       "DC             1\n",
       "ISI            0\n",
       "BUI            0\n",
       "FWI            1\n",
       "Classes        1\n",
       "dtype: int64"
      ]
     },
     "execution_count": 334,
     "metadata": {},
     "output_type": "execute_result"
    }
   ],
   "source": [
    "df.isnull().sum()"
   ]
  },
  {
   "cell_type": "code",
   "execution_count": 335,
   "id": "4b3de097",
   "metadata": {},
   "outputs": [],
   "source": [
    "df.dropna(inplace=True)"
   ]
  },
  {
   "cell_type": "markdown",
   "id": "e4e6f934",
   "metadata": {},
   "source": [
    "Observation:\n",
    "     There are some missing values which can be dropped off from the dataframe"
   ]
  },
  {
   "cell_type": "code",
   "execution_count": 336,
   "id": "8b2eb537",
   "metadata": {},
   "outputs": [
    {
     "data": {
      "text/plain": [
       "day            0\n",
       "month          0\n",
       "Temperature    0\n",
       "RH             0\n",
       "Ws             0\n",
       "Rain           0\n",
       "FFMC           0\n",
       "DMC            0\n",
       "DC             0\n",
       "ISI            0\n",
       "BUI            0\n",
       "FWI            0\n",
       "Classes        0\n",
       "dtype: int64"
      ]
     },
     "execution_count": 336,
     "metadata": {},
     "output_type": "execute_result"
    }
   ],
   "source": [
    "df.isnull().sum()"
   ]
  },
  {
   "cell_type": "code",
   "execution_count": 337,
   "id": "8024647f",
   "metadata": {},
   "outputs": [
    {
     "data": {
      "text/plain": [
       "array(['not fire', 'fire'], dtype=object)"
      ]
     },
     "execution_count": 337,
     "metadata": {},
     "output_type": "execute_result"
    }
   ],
   "source": [
    "df['Classes'].unique()"
   ]
  },
  {
   "cell_type": "markdown",
   "id": "16b5c6da",
   "metadata": {},
   "source": [
    "### What is Maximum Temperature When the Fire has happened"
   ]
  },
  {
   "cell_type": "code",
   "execution_count": 338,
   "id": "39a9ce29",
   "metadata": {},
   "outputs": [
    {
     "data": {
      "text/plain": [
       "Classes\n",
       "fire        42\n",
       "not fire    39\n",
       "Name: Temperature, dtype: int32"
      ]
     },
     "execution_count": 338,
     "metadata": {},
     "output_type": "execute_result"
    }
   ],
   "source": [
    "df.groupby('Classes')['Temperature'].max()"
   ]
  },
  {
   "cell_type": "markdown",
   "id": "dc144d2b",
   "metadata": {},
   "source": [
    "Observation:\n",
    "     The maximum temperature was around 42 degree celsius "
   ]
  },
  {
   "cell_type": "markdown",
   "id": "4b0c614e",
   "metadata": {},
   "source": [
    "##### What was the Average Relative Humidity when the Fire happened where the Temperature was over 38 degree"
   ]
  },
  {
   "cell_type": "code",
   "execution_count": 339,
   "id": "4d41038f",
   "metadata": {},
   "outputs": [
    {
     "data": {
      "text/plain": [
       "34.55555555555556"
      ]
     },
     "execution_count": 339,
     "metadata": {},
     "output_type": "execute_result"
    }
   ],
   "source": [
    "df[(df['Classes']=='fire') & (df['Temperature']>38)]['RH'].mean()"
   ]
  },
  {
   "cell_type": "markdown",
   "id": "184993ed",
   "metadata": {},
   "source": [
    "Observation:\n",
    "    The average Humidity was around 34%"
   ]
  },
  {
   "cell_type": "markdown",
   "id": "8e1a2339",
   "metadata": {},
   "source": [
    "##### Display all Average Temperature of month where the fire had happened"
   ]
  },
  {
   "cell_type": "code",
   "execution_count": 340,
   "id": "cbbdaa8f",
   "metadata": {},
   "outputs": [
    {
     "data": {
      "text/plain": [
       "month\n",
       "6    32.440000\n",
       "7    33.842105\n",
       "8    35.647059\n",
       "9    31.086957\n",
       "Name: Temperature, dtype: float64"
      ]
     },
     "execution_count": 340,
     "metadata": {},
     "output_type": "execute_result"
    }
   ],
   "source": [
    "df[df['Classes']=='fire'].groupby(['month'])['Temperature'].mean()"
   ]
  },
  {
   "cell_type": "markdown",
   "id": "0ff9c15e",
   "metadata": {},
   "source": [
    "##### Display all the details of the list where the fire has happened with maximum temperature"
   ]
  },
  {
   "cell_type": "code",
   "execution_count": 341,
   "id": "3ee55131",
   "metadata": {},
   "outputs": [
    {
     "data": {
      "text/html": [
       "<div>\n",
       "<style scoped>\n",
       "    .dataframe tbody tr th:only-of-type {\n",
       "        vertical-align: middle;\n",
       "    }\n",
       "\n",
       "    .dataframe tbody tr th {\n",
       "        vertical-align: top;\n",
       "    }\n",
       "\n",
       "    .dataframe thead th {\n",
       "        text-align: right;\n",
       "    }\n",
       "</style>\n",
       "<table border=\"1\" class=\"dataframe\">\n",
       "  <thead>\n",
       "    <tr style=\"text-align: right;\">\n",
       "      <th></th>\n",
       "      <th>day</th>\n",
       "      <th>month</th>\n",
       "      <th>Temperature</th>\n",
       "      <th>RH</th>\n",
       "      <th>Ws</th>\n",
       "      <th>Rain</th>\n",
       "      <th>FFMC</th>\n",
       "      <th>DMC</th>\n",
       "      <th>DC</th>\n",
       "      <th>ISI</th>\n",
       "      <th>BUI</th>\n",
       "      <th>FWI</th>\n",
       "      <th>Classes</th>\n",
       "    </tr>\n",
       "  </thead>\n",
       "  <tbody>\n",
       "    <tr>\n",
       "      <th>201</th>\n",
       "      <td>17</td>\n",
       "      <td>8</td>\n",
       "      <td>42</td>\n",
       "      <td>24</td>\n",
       "      <td>9</td>\n",
       "      <td>0.0</td>\n",
       "      <td>96.0</td>\n",
       "      <td>30.299999</td>\n",
       "      <td>76.400002</td>\n",
       "      <td>15.7</td>\n",
       "      <td>30.4</td>\n",
       "      <td>24.0</td>\n",
       "      <td>fire</td>\n",
       "    </tr>\n",
       "  </tbody>\n",
       "</table>\n",
       "</div>"
      ],
      "text/plain": [
       "     day  month  Temperature  RH  Ws  Rain  FFMC        DMC         DC   ISI  \\\n",
       "201   17      8           42  24   9   0.0  96.0  30.299999  76.400002  15.7   \n",
       "\n",
       "      BUI   FWI Classes  \n",
       "201  30.4  24.0    fire  "
      ]
     },
     "execution_count": 341,
     "metadata": {},
     "output_type": "execute_result"
    }
   ],
   "source": [
    "df[(df['Classes']=='fire') & (df['Temperature']==max(df['Temperature']))]"
   ]
  },
  {
   "cell_type": "markdown",
   "id": "d700a092",
   "metadata": {},
   "source": [
    "##### Display the Average Realtive Humidity for each month where temperature was more than 38 degree"
   ]
  },
  {
   "cell_type": "code",
   "execution_count": 342,
   "id": "9e9773ad",
   "metadata": {},
   "outputs": [
    {
     "data": {
      "text/plain": [
       "month\n",
       "7    54.50\n",
       "8    33.25\n",
       "Name: RH, dtype: float64"
      ]
     },
     "execution_count": 342,
     "metadata": {},
     "output_type": "execute_result"
    }
   ],
   "source": [
    "df[df['Temperature']>38].groupby('month')['RH'].mean()"
   ]
  },
  {
   "cell_type": "markdown",
   "id": "db0b6c93",
   "metadata": {},
   "source": [
    "##### Display the skewness of the dataset"
   ]
  },
  {
   "cell_type": "code",
   "execution_count": 343,
   "id": "16c91a3e",
   "metadata": {},
   "outputs": [
    {
     "data": {
      "text/plain": [
       "day            0.000365\n",
       "month         -0.005207\n",
       "Temperature   -0.191327\n",
       "RH            -0.242790\n",
       "Ws             0.555586\n",
       "Rain           4.568630\n",
       "FFMC          -1.320130\n",
       "DMC            1.522983\n",
       "DC             1.473460\n",
       "ISI            1.140243\n",
       "BUI            1.452745\n",
       "FWI            1.147593\n",
       "dtype: float64"
      ]
     },
     "execution_count": 343,
     "metadata": {},
     "output_type": "execute_result"
    }
   ],
   "source": [
    "df.skew()"
   ]
  },
  {
   "cell_type": "markdown",
   "id": "c3b5f2d4",
   "metadata": {},
   "source": [
    "Observation:\n",
    "    It seems that the rain is highly positive skewed has more outliers"
   ]
  },
  {
   "cell_type": "markdown",
   "id": "8ccf0176",
   "metadata": {},
   "source": [
    "##### What is the Ram Space used by the dataset"
   ]
  },
  {
   "cell_type": "code",
   "execution_count": 344,
   "id": "e36c0d3e",
   "metadata": {},
   "outputs": [
    {
     "data": {
      "text/plain": [
       "Index          1944\n",
       "day             972\n",
       "month           972\n",
       "Temperature     972\n",
       "RH              972\n",
       "Ws              972\n",
       "Rain            972\n",
       "FFMC            972\n",
       "DMC             972\n",
       "DC              972\n",
       "ISI             972\n",
       "BUI             972\n",
       "FWI             972\n",
       "Classes        1944\n",
       "dtype: int64"
      ]
     },
     "execution_count": 344,
     "metadata": {},
     "output_type": "execute_result"
    }
   ],
   "source": [
    "df.memory_usage()"
   ]
  },
  {
   "cell_type": "markdown",
   "id": "c9126427",
   "metadata": {},
   "source": [
    "##### What is the Temperature when Fire Weather Index was maximum"
   ]
  },
  {
   "cell_type": "code",
   "execution_count": 345,
   "id": "2e922001",
   "metadata": {},
   "outputs": [
    {
     "data": {
      "text/html": [
       "<div>\n",
       "<style scoped>\n",
       "    .dataframe tbody tr th:only-of-type {\n",
       "        vertical-align: middle;\n",
       "    }\n",
       "\n",
       "    .dataframe tbody tr th {\n",
       "        vertical-align: top;\n",
       "    }\n",
       "\n",
       "    .dataframe thead th {\n",
       "        text-align: right;\n",
       "    }\n",
       "</style>\n",
       "<table border=\"1\" class=\"dataframe\">\n",
       "  <thead>\n",
       "    <tr style=\"text-align: right;\">\n",
       "      <th></th>\n",
       "      <th>day</th>\n",
       "      <th>month</th>\n",
       "      <th>Temperature</th>\n",
       "      <th>RH</th>\n",
       "      <th>Ws</th>\n",
       "      <th>Rain</th>\n",
       "      <th>FFMC</th>\n",
       "      <th>DMC</th>\n",
       "      <th>DC</th>\n",
       "      <th>ISI</th>\n",
       "      <th>BUI</th>\n",
       "      <th>FWI</th>\n",
       "      <th>Classes</th>\n",
       "    </tr>\n",
       "  </thead>\n",
       "  <tbody>\n",
       "    <tr>\n",
       "      <th>209</th>\n",
       "      <td>25</td>\n",
       "      <td>8</td>\n",
       "      <td>34</td>\n",
       "      <td>40</td>\n",
       "      <td>18</td>\n",
       "      <td>0.0</td>\n",
       "      <td>92.099998</td>\n",
       "      <td>56.299999</td>\n",
       "      <td>157.5</td>\n",
       "      <td>14.3</td>\n",
       "      <td>59.5</td>\n",
       "      <td>31.1</td>\n",
       "      <td>fire</td>\n",
       "    </tr>\n",
       "  </tbody>\n",
       "</table>\n",
       "</div>"
      ],
      "text/plain": [
       "     day  month  Temperature  RH  Ws  Rain       FFMC        DMC     DC   ISI  \\\n",
       "209   25      8           34  40  18   0.0  92.099998  56.299999  157.5  14.3   \n",
       "\n",
       "      BUI   FWI Classes  \n",
       "209  59.5  31.1    fire  "
      ]
     },
     "execution_count": 345,
     "metadata": {},
     "output_type": "execute_result"
    }
   ],
   "source": [
    "df[df['FWI']==max(df['FWI'])]"
   ]
  },
  {
   "cell_type": "markdown",
   "id": "cae379bf",
   "metadata": {},
   "source": [
    "##### What is the Temperature when Fine Fuel Moisture Code was maximum"
   ]
  },
  {
   "cell_type": "code",
   "execution_count": 346,
   "id": "1ec5e2df",
   "metadata": {},
   "outputs": [
    {
     "data": {
      "text/html": [
       "<div>\n",
       "<style scoped>\n",
       "    .dataframe tbody tr th:only-of-type {\n",
       "        vertical-align: middle;\n",
       "    }\n",
       "\n",
       "    .dataframe tbody tr th {\n",
       "        vertical-align: top;\n",
       "    }\n",
       "\n",
       "    .dataframe thead th {\n",
       "        text-align: right;\n",
       "    }\n",
       "</style>\n",
       "<table border=\"1\" class=\"dataframe\">\n",
       "  <thead>\n",
       "    <tr style=\"text-align: right;\">\n",
       "      <th></th>\n",
       "      <th>day</th>\n",
       "      <th>month</th>\n",
       "      <th>Temperature</th>\n",
       "      <th>RH</th>\n",
       "      <th>Ws</th>\n",
       "      <th>Rain</th>\n",
       "      <th>FFMC</th>\n",
       "      <th>DMC</th>\n",
       "      <th>DC</th>\n",
       "      <th>ISI</th>\n",
       "      <th>BUI</th>\n",
       "      <th>FWI</th>\n",
       "      <th>Classes</th>\n",
       "    </tr>\n",
       "  </thead>\n",
       "  <tbody>\n",
       "    <tr>\n",
       "      <th>201</th>\n",
       "      <td>17</td>\n",
       "      <td>8</td>\n",
       "      <td>42</td>\n",
       "      <td>24</td>\n",
       "      <td>9</td>\n",
       "      <td>0.0</td>\n",
       "      <td>96.0</td>\n",
       "      <td>30.299999</td>\n",
       "      <td>76.400002</td>\n",
       "      <td>15.7</td>\n",
       "      <td>30.4</td>\n",
       "      <td>24.0</td>\n",
       "      <td>fire</td>\n",
       "    </tr>\n",
       "  </tbody>\n",
       "</table>\n",
       "</div>"
      ],
      "text/plain": [
       "     day  month  Temperature  RH  Ws  Rain  FFMC        DMC         DC   ISI  \\\n",
       "201   17      8           42  24   9   0.0  96.0  30.299999  76.400002  15.7   \n",
       "\n",
       "      BUI   FWI Classes  \n",
       "201  30.4  24.0    fire  "
      ]
     },
     "execution_count": 346,
     "metadata": {},
     "output_type": "execute_result"
    }
   ],
   "source": [
    "df[df['FFMC']==max(df['FFMC'])]"
   ]
  },
  {
   "cell_type": "markdown",
   "id": "0efba5dc",
   "metadata": {},
   "source": [
    "##### Covariance between Dependent and Independent Features"
   ]
  },
  {
   "cell_type": "code",
   "execution_count": 347,
   "id": "cf074b1d",
   "metadata": {},
   "outputs": [
    {
     "data": {
      "text/html": [
       "<div>\n",
       "<style scoped>\n",
       "    .dataframe tbody tr th:only-of-type {\n",
       "        vertical-align: middle;\n",
       "    }\n",
       "\n",
       "    .dataframe tbody tr th {\n",
       "        vertical-align: top;\n",
       "    }\n",
       "\n",
       "    .dataframe thead th {\n",
       "        text-align: right;\n",
       "    }\n",
       "</style>\n",
       "<table border=\"1\" class=\"dataframe\">\n",
       "  <thead>\n",
       "    <tr style=\"text-align: right;\">\n",
       "      <th></th>\n",
       "      <th>day</th>\n",
       "      <th>month</th>\n",
       "      <th>Temperature</th>\n",
       "      <th>RH</th>\n",
       "      <th>Ws</th>\n",
       "      <th>Rain</th>\n",
       "      <th>FFMC</th>\n",
       "      <th>DMC</th>\n",
       "      <th>DC</th>\n",
       "      <th>ISI</th>\n",
       "      <th>BUI</th>\n",
       "      <th>FWI</th>\n",
       "    </tr>\n",
       "  </thead>\n",
       "  <tbody>\n",
       "    <tr>\n",
       "      <th>day</th>\n",
       "      <td>78.190729</td>\n",
       "      <td>-0.003639</td>\n",
       "      <td>3.119138</td>\n",
       "      <td>-9.969476</td>\n",
       "      <td>1.188603</td>\n",
       "      <td>-1.993174</td>\n",
       "      <td>28.544042</td>\n",
       "      <td>53.863133</td>\n",
       "      <td>222.524339</td>\n",
       "      <td>6.632060</td>\n",
       "      <td>65.061368</td>\n",
       "      <td>23.079143</td>\n",
       "    </tr>\n",
       "    <tr>\n",
       "      <th>month</th>\n",
       "      <td>-0.003639</td>\n",
       "      <td>1.242764</td>\n",
       "      <td>-0.229653</td>\n",
       "      <td>-0.681903</td>\n",
       "      <td>-0.124987</td>\n",
       "      <td>0.077762</td>\n",
       "      <td>0.272433</td>\n",
       "      <td>0.938676</td>\n",
       "      <td>6.722457</td>\n",
       "      <td>0.303838</td>\n",
       "      <td>1.349400</td>\n",
       "      <td>0.685464</td>\n",
       "    </tr>\n",
       "    <tr>\n",
       "      <th>Temperature</th>\n",
       "      <td>3.119138</td>\n",
       "      <td>-0.229653</td>\n",
       "      <td>13.162670</td>\n",
       "      <td>-35.043482</td>\n",
       "      <td>-2.901949</td>\n",
       "      <td>-2.372850</td>\n",
       "      <td>35.222858</td>\n",
       "      <td>21.837668</td>\n",
       "      <td>65.071727</td>\n",
       "      <td>9.101371</td>\n",
       "      <td>23.734918</td>\n",
       "      <td>15.297068</td>\n",
       "    </tr>\n",
       "    <tr>\n",
       "      <th>RH</th>\n",
       "      <td>-9.969476</td>\n",
       "      <td>-0.681903</td>\n",
       "      <td>-35.043482</td>\n",
       "      <td>219.874333</td>\n",
       "      <td>10.173809</td>\n",
       "      <td>6.604836</td>\n",
       "      <td>-137.215386</td>\n",
       "      <td>-75.071928</td>\n",
       "      <td>-160.400449</td>\n",
       "      <td>-42.298446</td>\n",
       "      <td>-74.653741</td>\n",
       "      <td>-64.096917</td>\n",
       "    </tr>\n",
       "    <tr>\n",
       "      <th>Ws</th>\n",
       "      <td>1.188603</td>\n",
       "      <td>-0.124987</td>\n",
       "      <td>-2.901949</td>\n",
       "      <td>10.173809</td>\n",
       "      <td>7.903887</td>\n",
       "      <td>0.965886</td>\n",
       "      <td>-6.718952</td>\n",
       "      <td>-0.025120</td>\n",
       "      <td>10.604530</td>\n",
       "      <td>0.099643</td>\n",
       "      <td>1.257586</td>\n",
       "      <td>0.677079</td>\n",
       "    </tr>\n",
       "    <tr>\n",
       "      <th>Rain</th>\n",
       "      <td>-1.993174</td>\n",
       "      <td>0.077762</td>\n",
       "      <td>-2.372850</td>\n",
       "      <td>6.604836</td>\n",
       "      <td>0.965886</td>\n",
       "      <td>4.012837</td>\n",
       "      <td>-15.634746</td>\n",
       "      <td>-7.169025</td>\n",
       "      <td>-28.456455</td>\n",
       "      <td>-2.891688</td>\n",
       "      <td>-8.546509</td>\n",
       "      <td>-4.835502</td>\n",
       "    </tr>\n",
       "    <tr>\n",
       "      <th>FFMC</th>\n",
       "      <td>28.544042</td>\n",
       "      <td>0.272433</td>\n",
       "      <td>35.222858</td>\n",
       "      <td>-137.215386</td>\n",
       "      <td>-6.718952</td>\n",
       "      <td>-15.634746</td>\n",
       "      <td>205.912202</td>\n",
       "      <td>107.342971</td>\n",
       "      <td>347.051365</td>\n",
       "      <td>44.113113</td>\n",
       "      <td>120.872509</td>\n",
       "      <td>73.791798</td>\n",
       "    </tr>\n",
       "    <tr>\n",
       "      <th>DMC</th>\n",
       "      <td>53.863133</td>\n",
       "      <td>0.938676</td>\n",
       "      <td>21.837668</td>\n",
       "      <td>-75.071928</td>\n",
       "      <td>-0.025120</td>\n",
       "      <td>-7.169025</td>\n",
       "      <td>107.342971</td>\n",
       "      <td>153.587434</td>\n",
       "      <td>517.427748</td>\n",
       "      <td>35.032228</td>\n",
       "      <td>173.203205</td>\n",
       "      <td>80.764530</td>\n",
       "    </tr>\n",
       "    <tr>\n",
       "      <th>DC</th>\n",
       "      <td>222.524339</td>\n",
       "      <td>6.722457</td>\n",
       "      <td>65.071727</td>\n",
       "      <td>-160.400449</td>\n",
       "      <td>10.604530</td>\n",
       "      <td>-28.456455</td>\n",
       "      <td>347.051365</td>\n",
       "      <td>517.427748</td>\n",
       "      <td>2272.009991</td>\n",
       "      <td>100.718521</td>\n",
       "      <td>638.862527</td>\n",
       "      <td>262.277744</td>\n",
       "    </tr>\n",
       "    <tr>\n",
       "      <th>ISI</th>\n",
       "      <td>6.632060</td>\n",
       "      <td>0.303838</td>\n",
       "      <td>9.101371</td>\n",
       "      <td>-42.298446</td>\n",
       "      <td>0.099643</td>\n",
       "      <td>-2.891688</td>\n",
       "      <td>44.113113</td>\n",
       "      <td>35.032228</td>\n",
       "      <td>100.718521</td>\n",
       "      <td>17.257659</td>\n",
       "      <td>38.071147</td>\n",
       "      <td>28.526551</td>\n",
       "    </tr>\n",
       "    <tr>\n",
       "      <th>BUI</th>\n",
       "      <td>65.061368</td>\n",
       "      <td>1.349400</td>\n",
       "      <td>23.734918</td>\n",
       "      <td>-74.653741</td>\n",
       "      <td>1.257586</td>\n",
       "      <td>-8.546509</td>\n",
       "      <td>120.872509</td>\n",
       "      <td>173.203205</td>\n",
       "      <td>638.862527</td>\n",
       "      <td>38.071147</td>\n",
       "      <td>202.447969</td>\n",
       "      <td>90.831493</td>\n",
       "    </tr>\n",
       "    <tr>\n",
       "      <th>FWI</th>\n",
       "      <td>23.079143</td>\n",
       "      <td>0.685464</td>\n",
       "      <td>15.297068</td>\n",
       "      <td>-64.096917</td>\n",
       "      <td>0.677079</td>\n",
       "      <td>-4.835502</td>\n",
       "      <td>73.791798</td>\n",
       "      <td>80.764530</td>\n",
       "      <td>262.277744</td>\n",
       "      <td>28.526551</td>\n",
       "      <td>90.831493</td>\n",
       "      <td>55.362047</td>\n",
       "    </tr>\n",
       "  </tbody>\n",
       "</table>\n",
       "</div>"
      ],
      "text/plain": [
       "                    day     month  Temperature          RH         Ws  \\\n",
       "day           78.190729 -0.003639     3.119138   -9.969476   1.188603   \n",
       "month         -0.003639  1.242764    -0.229653   -0.681903  -0.124987   \n",
       "Temperature    3.119138 -0.229653    13.162670  -35.043482  -2.901949   \n",
       "RH            -9.969476 -0.681903   -35.043482  219.874333  10.173809   \n",
       "Ws             1.188603 -0.124987    -2.901949   10.173809   7.903887   \n",
       "Rain          -1.993174  0.077762    -2.372850    6.604836   0.965886   \n",
       "FFMC          28.544042  0.272433    35.222858 -137.215386  -6.718952   \n",
       "DMC           53.863133  0.938676    21.837668  -75.071928  -0.025120   \n",
       "DC           222.524339  6.722457    65.071727 -160.400449  10.604530   \n",
       "ISI            6.632060  0.303838     9.101371  -42.298446   0.099643   \n",
       "BUI           65.061368  1.349400    23.734918  -74.653741   1.257586   \n",
       "FWI           23.079143  0.685464    15.297068  -64.096917   0.677079   \n",
       "\n",
       "                  Rain        FFMC         DMC           DC         ISI  \\\n",
       "day          -1.993174   28.544042   53.863133   222.524339    6.632060   \n",
       "month         0.077762    0.272433    0.938676     6.722457    0.303838   \n",
       "Temperature  -2.372850   35.222858   21.837668    65.071727    9.101371   \n",
       "RH            6.604836 -137.215386  -75.071928  -160.400449  -42.298446   \n",
       "Ws            0.965886   -6.718952   -0.025120    10.604530    0.099643   \n",
       "Rain          4.012837  -15.634746   -7.169025   -28.456455   -2.891688   \n",
       "FFMC        -15.634746  205.912202  107.342971   347.051365   44.113113   \n",
       "DMC          -7.169025  107.342971  153.587434   517.427748   35.032228   \n",
       "DC          -28.456455  347.051365  517.427748  2272.009991  100.718521   \n",
       "ISI          -2.891688   44.113113   35.032228   100.718521   17.257659   \n",
       "BUI          -8.546509  120.872509  173.203205   638.862527   38.071147   \n",
       "FWI          -4.835502   73.791798   80.764530   262.277744   28.526551   \n",
       "\n",
       "                    BUI         FWI  \n",
       "day           65.061368   23.079143  \n",
       "month          1.349400    0.685464  \n",
       "Temperature   23.734918   15.297068  \n",
       "RH           -74.653741  -64.096917  \n",
       "Ws             1.257586    0.677079  \n",
       "Rain          -8.546509   -4.835502  \n",
       "FFMC         120.872509   73.791798  \n",
       "DMC          173.203205   80.764530  \n",
       "DC           638.862527  262.277744  \n",
       "ISI           38.071147   28.526551  \n",
       "BUI          202.447969   90.831493  \n",
       "FWI           90.831493   55.362047  "
      ]
     },
     "execution_count": 347,
     "metadata": {},
     "output_type": "execute_result"
    }
   ],
   "source": [
    "df.cov()"
   ]
  },
  {
   "cell_type": "code",
   "execution_count": 348,
   "id": "371ac358",
   "metadata": {},
   "outputs": [],
   "source": [
    "### Finding the outliers in the dataset\n",
    "def find_outliers_IQR(df):\n",
    "    q1=df.quantile(0.25)\n",
    "    q3=df.quantile(0.75)\n",
    "    IQR=q3-q1\n",
    "    lowerbound=q1-1.5*IQR\n",
    "    upperbound=q3+1.5*IQR\n",
    "    return lowerbound,upperbound"
   ]
  },
  {
   "cell_type": "markdown",
   "id": "09ecb387",
   "metadata": {},
   "source": [
    "##### Display all the Skewed data of Rain "
   ]
  },
  {
   "cell_type": "code",
   "execution_count": 349,
   "id": "ae5fedf1",
   "metadata": {},
   "outputs": [],
   "source": [
    "lowerfence,upperfence=find_outliers_IQR(df['Rain'])"
   ]
  },
  {
   "cell_type": "code",
   "execution_count": 350,
   "id": "77532ae6",
   "metadata": {},
   "outputs": [
    {
     "name": "stdout",
     "output_type": "stream",
     "text": [
      "The Lower Bound is -0.75 \n",
      "The Upper Bound is  1.25\n"
     ]
    }
   ],
   "source": [
    "print(\"The Lower Bound is\",lowerfence,\"\\n\"+\"The Upper Bound is \",upperfence)"
   ]
  },
  {
   "cell_type": "code",
   "execution_count": 351,
   "id": "a0e69869",
   "metadata": {},
   "outputs": [
    {
     "data": {
      "text/plain": [
       "35"
      ]
     },
     "execution_count": 351,
     "metadata": {},
     "output_type": "execute_result"
    }
   ],
   "source": [
    "len(df[(df['Rain']<lowerfence)|(df['Rain']>upperfence)])"
   ]
  },
  {
   "cell_type": "markdown",
   "id": "bfa6228e",
   "metadata": {},
   "source": [
    "Observation:\n",
    "    There are 35 records in Rain which is skewed and has outliers which should be processed"
   ]
  },
  {
   "cell_type": "markdown",
   "id": "dc761b18",
   "metadata": {},
   "source": [
    "##### Display all the Skewed data of Duff Moisture Code"
   ]
  },
  {
   "cell_type": "code",
   "execution_count": 352,
   "id": "ccbe00b2",
   "metadata": {},
   "outputs": [],
   "source": [
    "lowerfence,upperfence=find_outliers_IQR(df['DMC'])"
   ]
  },
  {
   "cell_type": "code",
   "execution_count": 353,
   "id": "557475c8",
   "metadata": {},
   "outputs": [
    {
     "name": "stdout",
     "output_type": "stream",
     "text": [
      "The Lower Bound is -16.699999809265137 \n",
      "The Upper Bound is  43.30000019073486\n"
     ]
    }
   ],
   "source": [
    "print(\"The Lower Bound is\",lowerfence,\"\\n\"+\"The Upper Bound is \",upperfence)"
   ]
  },
  {
   "cell_type": "code",
   "execution_count": 354,
   "id": "9829f265",
   "metadata": {},
   "outputs": [
    {
     "data": {
      "text/plain": [
       "12"
      ]
     },
     "execution_count": 354,
     "metadata": {},
     "output_type": "execute_result"
    }
   ],
   "source": [
    "len(df[(df['DMC']<lowerfence)|(df['DMC']>upperfence)])"
   ]
  },
  {
   "cell_type": "markdown",
   "id": "73343586",
   "metadata": {},
   "source": [
    "Observation:\n",
    "    There are 12 records in Duff Moisture Code which is skewed and has outliers which should be processed"
   ]
  },
  {
   "cell_type": "markdown",
   "id": "ebb6c997",
   "metadata": {},
   "source": [
    "### Graph Analysis"
   ]
  },
  {
   "cell_type": "code",
   "execution_count": 355,
   "id": "c18a9c1b",
   "metadata": {},
   "outputs": [],
   "source": [
    "graph_col=['Temperature','RH','Ws','Rain','FFMC','DMC','DC','ISI','BUI','FWI']"
   ]
  },
  {
   "cell_type": "code",
   "execution_count": 356,
   "id": "daa2e61b",
   "metadata": {},
   "outputs": [
    {
     "data": {
      "image/png": "[encoded data removed]",
      "text/plain": [
       "<Figure size 360x360 with 1 Axes>"
      ]
     },
     "metadata": {
      "needs_background": "light"
     },
     "output_type": "display_data"
    },
    {
     "data": {
      "image/png": "[encoded data removed]",
      "text/plain": [
       "<Figure size 432x288 with 1 Axes>"
      ]
     },
     "metadata": {
      "needs_background": "light"
     },
     "output_type": "display_data"
    },
    {
     "data": {
      "image/png": "[encoded data removed]",
      "text/plain": [
       "<Figure size 432x288 with 1 Axes>"
      ]
     },
     "metadata": {
      "needs_background": "light"
     },
     "output_type": "display_data"
    },
    {
     "data": {
      "image/png": "[encoded data removed]",
      "text/plain": [
       "<Figure size 432x288 with 1 Axes>"
      ]
     },
     "metadata": {
      "needs_background": "light"
     },
     "output_type": "display_data"
    },
    {
     "data": {
      "image/png": "[encoded data removed]",
      "text/plain": [
       "<Figure size 432x288 with 1 Axes>"
      ]
     },
     "metadata": {
      "needs_background": "light"
     },
     "output_type": "display_data"
    },
    {
     "data": {
      "image/png": "[encoded data removed]",
      "text/plain": [
       "<Figure size 432x288 with 1 Axes>"
      ]
     },
     "metadata": {
      "needs_background": "light"
     },
     "output_type": "display_data"
    },
    {
     "data": {
      "image/png": "[encoded data removed]",
      "text/plain": [
       "<Figure size 432x288 with 1 Axes>"
      ]
     },
     "metadata": {
      "needs_background": "light"
     },
     "output_type": "display_data"
    },
    {
     "data": {
      "image/png": "[encoded data removed]",
      "text/plain": [
       "<Figure size 432x288 with 1 Axes>"
      ]
     },
     "metadata": {
      "needs_background": "light"
     },
     "output_type": "display_data"
    },
    {
     "data": {
      "image/png": "[encoded data removed]",
      "text/plain": [
       "<Figure size 432x288 with 1 Axes>"
      ]
     },
     "metadata": {
      "needs_background": "light"
     },
     "output_type": "display_data"
    },
    {
     "data": {
      "image/png": "[encoded data removed]",
      "text/plain": [
       "<Figure size 432x288 with 1 Axes>"
      ]
     },
     "metadata": {
      "needs_background": "light"
     },
     "output_type": "display_data"
    }
   ],
   "source": [
    "### Plotting the Kde Plot to check the distribution of the feature\n",
    "fig, ax = plt.subplots(figsize=(5, 5))\n",
    "for i in graph_col:\n",
    "    sns.kdeplot(df[i])\n",
    "    plt.xlabel(i)\n",
    "    plt.ylabel('Distribution')\n",
    "    plt.show()"
   ]
  },
  {
   "cell_type": "markdown",
   "id": "9c0ed3b8",
   "metadata": {},
   "source": [
    "###### Observation:\n",
    "    1. Temperature is Normally Distributed.\n",
    "    2. Relative Humidity is slightly skewed right side.\n",
    "    3. Wind Speed is Right Skewed.\n",
    "    4. Rain is log normally ditributed right skewed.\n",
    "    5. Fine Fuel Moisture Code is left skewed.\n",
    "    6. Duff Moisture Code (DMC),Drought Code (DC) ,Initial Spread Index (ISI),Buildup Index (BUI) ,Fire Weather Index (FWI)\n",
    "       are slightly right skewed."
   ]
  },
  {
   "cell_type": "markdown",
   "id": "eb664c84",
   "metadata": {},
   "source": [
    "### Display the Temperature when Fire has happened"
   ]
  },
  {
   "cell_type": "code",
   "execution_count": 357,
   "id": "dab56460",
   "metadata": {},
   "outputs": [
    {
     "data": {
      "text/plain": [
       "<AxesSubplot:xlabel='Classes', ylabel='Temperature'>"
      ]
     },
     "execution_count": 357,
     "metadata": {},
     "output_type": "execute_result"
    },
    {
     "data": {
      "image/png": "[encoded data removed]",
      "text/plain": [
       "<Figure size 720x576 with 1 Axes>"
      ]
     },
     "metadata": {
      "needs_background": "light"
     },
     "output_type": "display_data"
    }
   ],
   "source": [
    "fig, ax = plt.subplots(figsize=(10, 8))\n",
    "sns.barplot(x='Classes',y='Temperature',data=df,palette=\"Blues_d\")"
   ]
  },
  {
   "cell_type": "markdown",
   "id": "a28053ed",
   "metadata": {},
   "source": [
    "###### Observation:\n",
    "    - The Average temperature was around 33 Celsius degrees when fire has happened"
   ]
  },
  {
   "cell_type": "markdown",
   "id": "59c6e48d",
   "metadata": {},
   "source": [
    "### Display the Distribution of Rain vs Temperature"
   ]
  },
  {
   "cell_type": "code",
   "execution_count": 358,
   "id": "e584e59d",
   "metadata": {},
   "outputs": [
    {
     "data": {
      "text/plain": [
       "<AxesSubplot:xlabel='Temperature', ylabel='Rain'>"
      ]
     },
     "execution_count": 358,
     "metadata": {},
     "output_type": "execute_result"
    },
    {
     "data": {
      "image/png": "[encoded data removed]",
      "text/plain": [
       "<Figure size 720x576 with 1 Axes>"
      ]
     },
     "metadata": {
      "needs_background": "light"
     },
     "output_type": "display_data"
    }
   ],
   "source": [
    "fig, ax = plt.subplots(figsize=(10, 8))\n",
    "sns.boxplot(x=\"Temperature\", y=\"Rain\", data=df,\n",
    "            whis=[0, 100], width=.6, palette=\"vlag\")\n"
   ]
  },
  {
   "cell_type": "markdown",
   "id": "efef67dc",
   "metadata": {},
   "source": [
    "###### Observation:\n",
    "    - During 28 Celsius degrees has maximum rainfall\n",
    "    - Temperature is inversely correlated with rain"
   ]
  },
  {
   "cell_type": "markdown",
   "id": "89de1f7c",
   "metadata": {},
   "source": [
    "### Show the Relation between Temperature and Fine Fuel Moisture Code With Respect to Classes"
   ]
  },
  {
   "cell_type": "code",
   "execution_count": 359,
   "id": "c787c889",
   "metadata": {},
   "outputs": [
    {
     "data": {
      "text/plain": [
       "<AxesSubplot:xlabel='Temperature', ylabel='FFMC'>"
      ]
     },
     "execution_count": 359,
     "metadata": {},
     "output_type": "execute_result"
    },
    {
     "data": {
      "image/png": "[encoded data removed]",
      "text/plain": [
       "<Figure size 720x576 with 1 Axes>"
      ]
     },
     "metadata": {
      "needs_background": "light"
     },
     "output_type": "display_data"
    }
   ],
   "source": [
    "fig, ax = plt.subplots(figsize=(10, 8))\n",
    "sns.scatterplot(x='Temperature',y='FFMC',hue='Classes',data=df)"
   ]
  },
  {
   "cell_type": "markdown",
   "id": "281d77cb",
   "metadata": {},
   "source": [
    "###### Observation:\n",
    "    - Temperature and Fine Fuel Moisture Code are linearly increasing it is highly correlated\n",
    "    - The Temperature and FFMC are High when Fire has happened"
   ]
  },
  {
   "cell_type": "markdown",
   "id": "34539d05",
   "metadata": {},
   "source": [
    "### Show the relation between Temperature and Initial Spread Index"
   ]
  },
  {
   "cell_type": "code",
   "execution_count": 360,
   "id": "571b69be",
   "metadata": {},
   "outputs": [
    {
     "data": {
      "text/plain": [
       "<AxesSubplot:xlabel='Temperature', ylabel='ISI'>"
      ]
     },
     "execution_count": 360,
     "metadata": {},
     "output_type": "execute_result"
    },
    {
     "data": {
      "image/png": "[encoded data removed]",
      "text/plain": [
       "<Figure size 720x576 with 1 Axes>"
      ]
     },
     "metadata": {
      "needs_background": "light"
     },
     "output_type": "display_data"
    }
   ],
   "source": [
    "fig, ax = plt.subplots(figsize=(10, 8))\n",
    "sns.scatterplot(x='Temperature',y='ISI',hue='Classes',data=df)"
   ]
  },
  {
   "cell_type": "markdown",
   "id": "0b12563f",
   "metadata": {},
   "source": [
    "###### Observation:\n",
    "    - Temperature and Initial Spread Index are linearly increasing it is highly correlated\n",
    "    - The Temperature and ISI are High when Fire has happened"
   ]
  },
  {
   "cell_type": "markdown",
   "id": "1fbd8c8e",
   "metadata": {},
   "source": [
    "### MultiCollinearity"
   ]
  },
  {
   "cell_type": "code",
   "execution_count": 361,
   "id": "4130f579",
   "metadata": {},
   "outputs": [
    {
     "data": {
      "text/plain": [
       "<AxesSubplot:xlabel='DMC', ylabel='BUI'>"
      ]
     },
     "execution_count": 361,
     "metadata": {},
     "output_type": "execute_result"
    },
    {
     "data": {
      "image/png": "[encoded data removed]",
      "text/plain": [
       "<Figure size 720x576 with 1 Axes>"
      ]
     },
     "metadata": {
      "needs_background": "light"
     },
     "output_type": "display_data"
    }
   ],
   "source": [
    "fig, ax = plt.subplots(figsize=(10, 8))\n",
    "sns.scatterplot(x='DMC',y='BUI',hue='Classes',data=df)"
   ]
  },
  {
   "cell_type": "markdown",
   "id": "fb4db1a4",
   "metadata": {},
   "source": [
    "###### Observation:\n",
    "    - Duff Moisture Code and Buildup Index are two independent varaibles which are highly correlated.\n",
    "    - Either one of the feature should be dropped for the feature selection."
   ]
  },
  {
   "cell_type": "markdown",
   "id": "8f282bf4",
   "metadata": {},
   "source": [
    "### Show the relation between Temperature and Relative Humidity"
   ]
  },
  {
   "cell_type": "code",
   "execution_count": 362,
   "id": "9488ab94",
   "metadata": {},
   "outputs": [
    {
     "data": {
      "text/plain": [
       "<AxesSubplot:xlabel='Temperature', ylabel='RH'>"
      ]
     },
     "execution_count": 362,
     "metadata": {},
     "output_type": "execute_result"
    },
    {
     "data": {
      "image/png": "[encoded data removed]",
      "text/plain": [
       "<Figure size 720x576 with 1 Axes>"
      ]
     },
     "metadata": {
      "needs_background": "light"
     },
     "output_type": "display_data"
    }
   ],
   "source": [
    "fig, ax = plt.subplots(figsize=(10, 8))\n",
    "sns.scatterplot(x='Temperature',y='RH',hue='Classes',data=df)"
   ]
  },
  {
   "cell_type": "markdown",
   "id": "9d1709ae",
   "metadata": {},
   "source": [
    "###### Observation:\n",
    "    - Temperature and Relative Humidity are negative Correlated\n",
    "    - Rumidity is less when the fire has happened but the temperature was large"
   ]
  },
  {
   "cell_type": "code",
   "execution_count": 363,
   "id": "3cfe9e84",
   "metadata": {},
   "outputs": [
    {
     "data": {
      "text/plain": [
       "<AxesSubplot:xlabel='month', ylabel='Temperature'>"
      ]
     },
     "execution_count": 363,
     "metadata": {},
     "output_type": "execute_result"
    },
    {
     "data": {
      "image/png": "[encoded data removed]",
      "text/plain": [
       "<Figure size 720x576 with 1 Axes>"
      ]
     },
     "metadata": {
      "needs_background": "light"
     },
     "output_type": "display_data"
    }
   ],
   "source": [
    "fig, ax = plt.subplots(figsize=(10, 8))\n",
    "sns.barplot(x='month',y='Temperature',data=df,palette=\"Blues_d\")"
   ]
  },
  {
   "cell_type": "code",
   "execution_count": null,
   "id": "21fff73d",
   "metadata": {},
   "outputs": [],
   "source": [
    "sns.pairplot(df)"
   ]
  },
  {
   "cell_type": "markdown",
   "id": "37f03bed",
   "metadata": {},
   "source": [
    "### Display the Correlation Between the Features Ghapically"
   ]
  },
  {
   "cell_type": "code",
   "execution_count": null,
   "id": "2852b40b",
   "metadata": {},
   "outputs": [],
   "source": [
    "fig, ax = plt.subplots(figsize=(12, 9))\n",
    "sns.heatmap(df.corr(),annot=True)"
   ]
  },
  {
   "cell_type": "markdown",
   "id": "0e4228ae",
   "metadata": {},
   "source": [
    "###### Observation:\n",
    "    - As Duff Moisture Code and Buildup Index are highly correlated\n",
    "      there should be one feature since Duff Moisture Code is higly correlated with\n",
    "      Temperature feature we can drop the Buildup Index"
   ]
  },
  {
   "cell_type": "code",
   "execution_count": null,
   "id": "b65705b1",
   "metadata": {},
   "outputs": [],
   "source": [
    "df.drop(labels=['BUI'],axis=1,inplace=True)"
   ]
  },
  {
   "cell_type": "code",
   "execution_count": null,
   "id": "c1c588be",
   "metadata": {},
   "outputs": [],
   "source": [
    "df.head()"
   ]
  },
  {
   "cell_type": "markdown",
   "id": "36087bc7",
   "metadata": {},
   "source": [
    "### Label Encoding"
   ]
  },
  {
   "cell_type": "code",
   "execution_count": null,
   "id": "017df2e6",
   "metadata": {},
   "outputs": [],
   "source": [
    "from sklearn import preprocessing\n",
    "  \n",
    "# label_encoder object knows how to understand word labels.\n",
    "label_encoder = preprocessing.LabelEncoder()\n",
    "  \n",
    "# Encode labels in column 'Classes'.\n",
    "df['Classes']= label_encoder.fit_transform(df['Classes'])\n",
    "  \n",
    "df['Classes'].unique()"
   ]
  },
  {
   "cell_type": "code",
   "execution_count": null,
   "id": "5b3ed706",
   "metadata": {},
   "outputs": [],
   "source": [
    "df.head()"
   ]
  },
  {
   "cell_type": "markdown",
   "id": "5dced537",
   "metadata": {},
   "source": [
    "###### Observation:\n",
    "    -It changes all the Classes feature which has not fire to 1 and fire to 0"
   ]
  },
  {
   "cell_type": "markdown",
   "id": "e21a08b1",
   "metadata": {},
   "source": [
    "### How Linearly The Temperature and Fine Fuel Moisture Code are Related"
   ]
  },
  {
   "cell_type": "code",
   "execution_count": null,
   "id": "859f9b8e",
   "metadata": {},
   "outputs": [],
   "source": [
    "sns.set(rc={'figure.figsize':(12,9)})\n",
    "sns.regplot(x='FFMC',y='Temperature',data=df)"
   ]
  },
  {
   "cell_type": "markdown",
   "id": "a83fc3d4",
   "metadata": {},
   "source": [
    "### How Linearly The Temperature and Relative Humidity are Related"
   ]
  },
  {
   "cell_type": "code",
   "execution_count": null,
   "id": "5987b443",
   "metadata": {},
   "outputs": [],
   "source": [
    "sns.set(rc={'figure.figsize':(12,9)})\n",
    "sns.regplot(x='RH',y='Temperature',data=df)"
   ]
  },
  {
   "cell_type": "markdown",
   "id": "c6b6f6ee",
   "metadata": {},
   "source": [
    "### How Linearly The Temperature and Initial Spread Index are Related"
   ]
  },
  {
   "cell_type": "code",
   "execution_count": null,
   "id": "de57d8a9",
   "metadata": {},
   "outputs": [],
   "source": [
    "sns.set(rc={'figure.figsize':(15,10)})\n",
    "sns.regplot(x='ISI',y='Temperature',data=df)"
   ]
  },
  {
   "cell_type": "code",
   "execution_count": null,
   "id": "78bbdf58",
   "metadata": {},
   "outputs": [],
   "source": [
    "sample_temp=df['Temperature']"
   ]
  },
  {
   "cell_type": "code",
   "execution_count": null,
   "id": "1d00fe61",
   "metadata": {},
   "outputs": [],
   "source": [
    "df.drop(labels=['Temperature'],axis=1,inplace=True)"
   ]
  },
  {
   "cell_type": "code",
   "execution_count": null,
   "id": "eb01ed40",
   "metadata": {},
   "outputs": [],
   "source": [
    "df['Temperature']=sample_temp"
   ]
  },
  {
   "cell_type": "code",
   "execution_count": null,
   "id": "a94b3e3f",
   "metadata": {},
   "outputs": [],
   "source": [
    "df.head()"
   ]
  },
  {
   "cell_type": "markdown",
   "id": "b9cde332",
   "metadata": {},
   "source": [
    "## Dependent and Independent Features"
   ]
  },
  {
   "cell_type": "code",
   "execution_count": null,
   "id": "dc2d2e22",
   "metadata": {},
   "outputs": [],
   "source": [
    "X=df.iloc[:,:-1]\n",
    "y=df.iloc[:,-1]"
   ]
  },
  {
   "cell_type": "code",
   "execution_count": null,
   "id": "01f52a56",
   "metadata": {},
   "outputs": [],
   "source": [
    "df['Classes'].unique()"
   ]
  },
  {
   "cell_type": "code",
   "execution_count": null,
   "id": "2175a44f",
   "metadata": {},
   "outputs": [],
   "source": [
    "X.head()"
   ]
  },
  {
   "cell_type": "code",
   "execution_count": null,
   "id": "60eb5e56",
   "metadata": {},
   "outputs": [],
   "source": [
    "y.head()"
   ]
  },
  {
   "cell_type": "markdown",
   "id": "b4a4ced3",
   "metadata": {},
   "source": [
    "### Splitting the Dataset to Train and Test Feature"
   ]
  },
  {
   "cell_type": "code",
   "execution_count": null,
   "id": "d8d51ce4",
   "metadata": {},
   "outputs": [],
   "source": [
    "from sklearn.model_selection import train_test_split"
   ]
  },
  {
   "cell_type": "code",
   "execution_count": null,
   "id": "9a58203e",
   "metadata": {},
   "outputs": [],
   "source": [
    "X_train,X_test,y_train,y_test=train_test_split(X,y,test_size=0.33,random_state=11)"
   ]
  },
  {
   "cell_type": "code",
   "execution_count": null,
   "id": "4d1824e0",
   "metadata": {},
   "outputs": [],
   "source": [
    "X_train.head()"
   ]
  },
  {
   "cell_type": "code",
   "execution_count": null,
   "id": "0981ad58",
   "metadata": {},
   "outputs": [],
   "source": [
    "y_train.head()"
   ]
  },
  {
   "cell_type": "code",
   "execution_count": null,
   "id": "4a6a746e",
   "metadata": {},
   "outputs": [],
   "source": [
    "print(\"X_train shape is \",X_train.shape)\n",
    "print(\"y_train shape is \",y_train.shape)"
   ]
  },
  {
   "cell_type": "code",
   "execution_count": null,
   "id": "85234e43",
   "metadata": {},
   "outputs": [],
   "source": [
    "print(\"X_test shape is \",X_test.shape)\n",
    "print(\"y_test shape is \",y_test.shape)"
   ]
  },
  {
   "cell_type": "markdown",
   "id": "120db11b",
   "metadata": {},
   "source": [
    "## Standardizing the Independent Features"
   ]
  },
  {
   "cell_type": "code",
   "execution_count": null,
   "id": "17057ac2",
   "metadata": {},
   "outputs": [],
   "source": [
    "from sklearn.preprocessing import StandardScaler\n",
    "scaler=StandardScaler()"
   ]
  },
  {
   "cell_type": "code",
   "execution_count": null,
   "id": "d8034c97",
   "metadata": {},
   "outputs": [],
   "source": [
    "X_train=scaler.fit_transform(X_train)"
   ]
  },
  {
   "cell_type": "code",
   "execution_count": null,
   "id": "c5bbc547",
   "metadata": {},
   "outputs": [],
   "source": [
    "X_test=scaler.transform(X_test)"
   ]
  },
  {
   "cell_type": "markdown",
   "id": "fc8014da",
   "metadata": {},
   "source": [
    "## Model Training"
   ]
  },
  {
   "cell_type": "code",
   "execution_count": null,
   "id": "483f5f1c",
   "metadata": {},
   "outputs": [],
   "source": [
    "from sklearn.linear_model import LinearRegression\n"
   ]
  },
  {
   "cell_type": "code",
   "execution_count": null,
   "id": "0f3a7ecc",
   "metadata": {},
   "outputs": [],
   "source": [
    "regression=LinearRegression()"
   ]
  },
  {
   "cell_type": "code",
   "execution_count": null,
   "id": "c91bc87c",
   "metadata": {},
   "outputs": [],
   "source": [
    "regression"
   ]
  },
  {
   "cell_type": "code",
   "execution_count": null,
   "id": "95033e10",
   "metadata": {},
   "outputs": [],
   "source": [
    "regression.fit(X_train,y_train)"
   ]
  },
  {
   "cell_type": "code",
   "execution_count": null,
   "id": "0639a192",
   "metadata": {},
   "outputs": [],
   "source": [
    "## Print the Coefficients and the intercept\n",
    "print(regression.coef_)"
   ]
  },
  {
   "cell_type": "code",
   "execution_count": null,
   "id": "291908d7",
   "metadata": {},
   "outputs": [],
   "source": [
    "print(regression.intercept_)"
   ]
  },
  {
   "cell_type": "code",
   "execution_count": null,
   "id": "149311b2",
   "metadata": {},
   "outputs": [],
   "source": [
    "## Prediction for the test data\n",
    "regression_pred=regression.predict(X_test)"
   ]
  },
  {
   "cell_type": "code",
   "execution_count": null,
   "id": "832cc5cb",
   "metadata": {},
   "outputs": [],
   "source": [
    "regression_pred"
   ]
  },
  {
   "cell_type": "markdown",
   "id": "63247e71",
   "metadata": {},
   "source": [
    "### Assumptions of Linear Regression"
   ]
  },
  {
   "cell_type": "code",
   "execution_count": null,
   "id": "13487707",
   "metadata": {},
   "outputs": [],
   "source": [
    "plt.scatter(y_test,regression_pred)\n",
    "plt.xlabel(\"Test Truth Data\")\n",
    "plt.ylabel(\"Test Predicted data\")\n",
    "plt.show()"
   ]
  },
  {
   "cell_type": "code",
   "execution_count": null,
   "id": "246ffefd",
   "metadata": {},
   "outputs": [],
   "source": [
    "residuals=y_test-regression_pred"
   ]
  },
  {
   "cell_type": "code",
   "execution_count": null,
   "id": "958a0a00",
   "metadata": {},
   "outputs": [],
   "source": [
    "residuals.head()"
   ]
  },
  {
   "cell_type": "code",
   "execution_count": null,
   "id": "6ee3c893",
   "metadata": {},
   "outputs": [],
   "source": [
    "sns.displot(residuals,kind='kde')"
   ]
  },
  {
   "cell_type": "code",
   "execution_count": null,
   "id": "a4b31a88",
   "metadata": {},
   "outputs": [],
   "source": [
    "plt.scatter(regression_pred,residuals)"
   ]
  },
  {
   "cell_type": "markdown",
   "id": "f229dce5",
   "metadata": {},
   "source": [
    "### Calculating the Error"
   ]
  },
  {
   "cell_type": "code",
   "execution_count": null,
   "id": "cf000ca2",
   "metadata": {},
   "outputs": [],
   "source": [
    "from sklearn.metrics import mean_squared_error\n",
    "from sklearn.metrics import mean_absolute_error\n",
    "print(\"The Mean Squared Error for the model is\",mean_squared_error(y_test,regression_pred))\n",
    "print(\"The Mean Absolute Error for the model is\",mean_absolute_error(y_test,regression_pred))\n",
    "print(\"The Root Mean Squared Error for the model is\",np.sqrt(mean_squared_error(y_test,regression_pred)))"
   ]
  },
  {
   "cell_type": "markdown",
   "id": "c780741f",
   "metadata": {},
   "source": [
    "### Performance Metrics of the Model"
   ]
  },
  {
   "cell_type": "code",
   "execution_count": null,
   "id": "bfd2832d",
   "metadata": {},
   "outputs": [],
   "source": [
    "from sklearn.metrics import r2_score\n",
    "score=r2_score(y_test,regression_pred)\n",
    "print(\"The R2 Score for the model builded is\",score)"
   ]
  },
  {
   "cell_type": "code",
   "execution_count": null,
   "id": "fe54ea45",
   "metadata": {},
   "outputs": [],
   "source": [
    "## Adjusted R square\n",
    "Adjusted_r=1-(1-score)*(len(y_test)-1)/(len(y_test)-X_test.shape[1]-1)\n",
    "print(\"The Adjusted R Square for the model is\",Adjusted_r)"
   ]
  },
  {
   "cell_type": "markdown",
   "id": "6a617539",
   "metadata": {},
   "source": [
    "## Ridge Regression"
   ]
  },
  {
   "cell_type": "code",
   "execution_count": null,
   "id": "fbade964",
   "metadata": {},
   "outputs": [],
   "source": [
    "from sklearn.linear_model import Ridge\n",
    "ridge=Ridge()"
   ]
  },
  {
   "cell_type": "code",
   "execution_count": null,
   "id": "9525c6ca",
   "metadata": {},
   "outputs": [],
   "source": [
    "ridge.fit(X_train,y_train)"
   ]
  },
  {
   "cell_type": "code",
   "execution_count": null,
   "id": "12c5666b",
   "metadata": {},
   "outputs": [],
   "source": [
    "ridge_pred=ridge.predict(X_test)"
   ]
  },
  {
   "cell_type": "code",
   "execution_count": null,
   "id": "22505e19",
   "metadata": {},
   "outputs": [],
   "source": [
    "ridge_pred"
   ]
  },
  {
   "cell_type": "code",
   "execution_count": null,
   "id": "5606a2fc",
   "metadata": {},
   "outputs": [],
   "source": [
    "residual=ridge_pred-y_test"
   ]
  },
  {
   "cell_type": "code",
   "execution_count": null,
   "id": "51471427",
   "metadata": {},
   "outputs": [],
   "source": [
    "sns.displot(residual,kind='kde')"
   ]
  },
  {
   "cell_type": "code",
   "execution_count": null,
   "id": "6e27006d",
   "metadata": {},
   "outputs": [],
   "source": [
    "plt.scatter(y_test,ridge_pred)\n",
    "plt.xlabel(\"Test Truth Data\")\n",
    "plt.ylabel(\"Test Predicted data\")\n",
    "plt.show()"
   ]
  },
  {
   "cell_type": "markdown",
   "id": "3d806796",
   "metadata": {},
   "source": [
    "### Calculating the Error"
   ]
  },
  {
   "cell_type": "code",
   "execution_count": null,
   "id": "cace5f46",
   "metadata": {},
   "outputs": [],
   "source": [
    "from sklearn.metrics import mean_squared_error\n",
    "from sklearn.metrics import mean_absolute_error\n",
    "print(\"The Mean Squared Error for the model is\",mean_squared_error(y_test,ridge_pred))\n",
    "print(\"The Mean Absolute Error for the model is\",mean_absolute_error(y_test,ridge_pred))\n",
    "print(\"The Root Mean Squared Error for the model is\",np.sqrt(mean_squared_error(y_test,ridge_pred)))"
   ]
  },
  {
   "cell_type": "markdown",
   "id": "c83c07b2",
   "metadata": {},
   "source": [
    "### Performance Metrics"
   ]
  },
  {
   "cell_type": "code",
   "execution_count": null,
   "id": "4d31958d",
   "metadata": {},
   "outputs": [],
   "source": [
    "from sklearn.metrics import r2_score\n",
    "score=r2_score(y_test,ridge_pred)\n",
    "print(\"The R2 Score for the model builded is\",score)"
   ]
  },
  {
   "cell_type": "code",
   "execution_count": null,
   "id": "f0719332",
   "metadata": {},
   "outputs": [],
   "source": [
    "## Adjusted R square\n",
    "Adjusted_r=1-(1-score)*(len(y_test)-1)/(len(y_test)-X_test.shape[1]-1)\n",
    "print(\"The Adjusted R Square for the model is\",Adjusted_r)"
   ]
  },
  {
   "cell_type": "markdown",
   "id": "a9996562",
   "metadata": {},
   "source": [
    "### Lasso Regression"
   ]
  },
  {
   "cell_type": "code",
   "execution_count": null,
   "id": "8c13f922",
   "metadata": {},
   "outputs": [],
   "source": [
    "from sklearn.linear_model import Lasso\n",
    "lasso=Lasso()"
   ]
  },
  {
   "cell_type": "code",
   "execution_count": null,
   "id": "cabcdedb",
   "metadata": {},
   "outputs": [],
   "source": [
    "lasso.fit(X_train,y_train)"
   ]
  },
  {
   "cell_type": "code",
   "execution_count": null,
   "id": "faddcd57",
   "metadata": {},
   "outputs": [],
   "source": [
    "lasso_pred=lasso.predict(X_test)"
   ]
  },
  {
   "cell_type": "code",
   "execution_count": null,
   "id": "d017def3",
   "metadata": {},
   "outputs": [],
   "source": [
    "lasso_pred"
   ]
  },
  {
   "cell_type": "code",
   "execution_count": null,
   "id": "f7208458",
   "metadata": {},
   "outputs": [],
   "source": [
    "residual=lasso_pred-y_test"
   ]
  },
  {
   "cell_type": "code",
   "execution_count": null,
   "id": "edba23c8",
   "metadata": {},
   "outputs": [],
   "source": [
    "sns.displot(residual,kind='kde')"
   ]
  },
  {
   "cell_type": "markdown",
   "id": "f45154d2",
   "metadata": {},
   "source": [
    "### Calculation the Error"
   ]
  },
  {
   "cell_type": "code",
   "execution_count": null,
   "id": "b5a18df8",
   "metadata": {},
   "outputs": [],
   "source": [
    "from sklearn.metrics import mean_squared_error\n",
    "from sklearn.metrics import mean_absolute_error\n",
    "print(\"The Mean Squared Error for the model is\",mean_squared_error(y_test,lasso_pred))\n",
    "print(\"The Mean Absolute Error for the model is\",mean_absolute_error(y_test,lasso_pred))\n",
    "print(\"The Root Mean Squared Error for the model is\",np.sqrt(mean_squared_error(y_test,lasso_pred)))"
   ]
  },
  {
   "cell_type": "markdown",
   "id": "968dcd01",
   "metadata": {},
   "source": [
    "### Performance Metrics"
   ]
  },
  {
   "cell_type": "code",
   "execution_count": null,
   "id": "357d1bd0",
   "metadata": {},
   "outputs": [],
   "source": [
    "from sklearn.metrics import r2_score\n",
    "score=r2_score(y_test,lasso_pred)\n",
    "print(\"The R2 Score for the model builded is\",score)"
   ]
  },
  {
   "cell_type": "code",
   "execution_count": null,
   "id": "dbf9ac74",
   "metadata": {},
   "outputs": [],
   "source": [
    "## Adjusted R square\n",
    "Adjusted_r=1-(1-score)*(len(y_test)-1)/(len(y_test)-X_test.shape[1]-1)\n",
    "print(\"The Adjusted R Square for the model is\",Adjusted_r)"
   ]
  },
  {
   "cell_type": "markdown",
   "id": "98650277",
   "metadata": {},
   "source": [
    "### Elastic Net Regression"
   ]
  },
  {
   "cell_type": "code",
   "execution_count": null,
   "id": "2625c17a",
   "metadata": {},
   "outputs": [],
   "source": [
    "from sklearn.linear_model import ElasticNet"
   ]
  },
  {
   "cell_type": "code",
   "execution_count": null,
   "id": "141881b4",
   "metadata": {},
   "outputs": [],
   "source": [
    "elastic = ElasticNet(random_state=0)"
   ]
  },
  {
   "cell_type": "code",
   "execution_count": null,
   "id": "b2e09ec2",
   "metadata": {},
   "outputs": [],
   "source": [
    "elastic.fit(X_train,y_train)"
   ]
  },
  {
   "cell_type": "code",
   "execution_count": null,
   "id": "ec2c5157",
   "metadata": {},
   "outputs": [],
   "source": [
    "elastic_pred=elastic.predict(X_test)"
   ]
  },
  {
   "cell_type": "code",
   "execution_count": null,
   "id": "aaf967b9",
   "metadata": {},
   "outputs": [],
   "source": [
    "elastic_pred"
   ]
  },
  {
   "cell_type": "code",
   "execution_count": null,
   "id": "a6ab6b39",
   "metadata": {},
   "outputs": [],
   "source": [
    "residual=elastic_pred-y_test"
   ]
  },
  {
   "cell_type": "code",
   "execution_count": null,
   "id": "e6771f64",
   "metadata": {},
   "outputs": [],
   "source": [
    "residual"
   ]
  },
  {
   "cell_type": "code",
   "execution_count": null,
   "id": "4096be7c",
   "metadata": {},
   "outputs": [],
   "source": [
    "sns.displot(residual,kind='kde')"
   ]
  },
  {
   "cell_type": "code",
   "execution_count": null,
   "id": "38974f50",
   "metadata": {},
   "outputs": [],
   "source": [
    "from sklearn.metrics import mean_squared_error\n",
    "from sklearn.metrics import mean_absolute_error\n",
    "print(\"The Mean Squared Error for the model is\",mean_squared_error(y_test,elastic_pred))\n",
    "print(\"The Mean Absolute Error for the model is\",mean_absolute_error(y_test,elastic_pred))\n",
    "print(\"The Root Mean Squared Error for the model is\",np.sqrt(mean_squared_error(y_test,elastic_pred)))"
   ]
  },
  {
   "cell_type": "code",
   "execution_count": null,
   "id": "821f2d33",
   "metadata": {},
   "outputs": [],
   "source": [
    "from sklearn.metrics import r2_score\n",
    "score=r2_score(y_test,elastic_pred)\n",
    "print(\"The R2 Score for the model builded is\",score)"
   ]
  },
  {
   "cell_type": "code",
   "execution_count": null,
   "id": "9722a664",
   "metadata": {},
   "outputs": [],
   "source": [
    "## Adjusted R square\n",
    "Adjusted_r=1-(1-score)*(len(y_test)-1)/(len(y_test)-X_test.shape[1]-1)\n",
    "print(\"The Adjusted R Square for the model is\",Adjusted_r)"
   ]
  }
 ],
 "metadata": {
  "kernelspec": {
   "display_name": "Python 3 (ipykernel)",
   "language": "python",
   "name": "python3"
  },
  "language_info": {
   "codemirror_mode": {
    "name": "ipython",
    "version": 3
   },
   "file_extension": ".py",
   "mimetype": "text/x-python",
   "name": "python",
   "nbconvert_exporter": "python",
   "pygments_lexer": "ipython3",
   "version": "3.9.12"
  }
 },
 "nbformat": 4,
 "nbformat_minor": 5
}
