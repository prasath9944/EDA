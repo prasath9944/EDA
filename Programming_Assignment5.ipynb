{
  "nbformat": 4,
  "nbformat_minor": 0,
  "metadata": {
    "colab": {
      "provenance": [],
      "authorship_tag": "ABX9TyMH9YAuHw/47cLti81Q9Nbi",
      "include_colab_link": true
    },
    "kernelspec": {
      "name": "python3",
      "display_name": "Python 3"
    },
    "language_info": {
      "name": "python"
    }
  },
  "cells": [
    {
      "cell_type": "markdown",
      "metadata": {
        "id": "view-in-github",
        "colab_type": "text"
      },
      "source": [
        "<a href=\"https://colab.research.google.com/github/prasath9944/EDA/blob/main/Programming_Assignment5.ipynb\" target=\"_parent\"><img src=\"https://colab.research.google.com/assets/colab-badge.svg\" alt=\"Open In Colab\"/></a>"
      ]
    },
    {
      "cell_type": "markdown",
      "source": [
        "<h1>1. Write a Python Program to Find LCM?</h1>"
      ],
      "metadata": {
        "id": "XTYz7-ZPxV2c"
      }
    },
    {
      "cell_type": "code",
      "source": [
        "def compute_LCM(x,y):\n",
        "  if x>y:\n",
        "    greater=x\n",
        "  else:\n",
        "    greater=y\n",
        "  while(True):\n",
        "    if((greater%x==0) and (greater%y==0)):\n",
        "      lcm=greater\n",
        "      break\n",
        "    greater+=1\n",
        "  return lcm"
      ],
      "metadata": {
        "id": "PqTKOBaANFOc"
      },
      "execution_count": 5,
      "outputs": []
    },
    {
      "cell_type": "code",
      "source": [
        "def compute_gcd(x,y):\n",
        "  while(y):\n",
        "    x,y=y,x%y\n",
        "  return x\n",
        "\n",
        "def computeLCM(x,y):\n",
        "  lcm=(x*y)//compute_gcd(x,y)\n",
        "  return lcm"
      ],
      "metadata": {
        "id": "PY-OF1KGNfZE"
      },
      "execution_count": 6,
      "outputs": []
    },
    {
      "cell_type": "code",
      "execution_count": 8,
      "metadata": {
        "colab": {
          "base_uri": "https://localhost:8080/"
        },
        "id": "BeXzU6edxVK7",
        "outputId": "965acb1f-8a94-438c-f0f5-31f78c454a1e"
      },
      "outputs": [
        {
          "output_type": "stream",
          "name": "stdout",
          "text": [
            "Enter the first number: 12\n",
            "Enter the second number: 14\n",
            "The LCM is 84\n"
          ]
        }
      ],
      "source": [
        "num1=int(input(\"Enter the first number: \"))\n",
        "num2=int(input(\"Enter the second number: \"))\n",
        "print(f\"The LCM is {computeLCM(num1,num2)}\")"
      ]
    },
    {
      "cell_type": "markdown",
      "source": [
        "<h1>2. Write a Python Program to Find HCF?</h1>"
      ],
      "metadata": {
        "id": "HPaPni8kOCrk"
      }
    },
    {
      "cell_type": "code",
      "source": [
        "def compute_HCF(x,y):\n",
        "  if x<y:\n",
        "    smaller=x\n",
        "  else:\n",
        "    smaller=y\n",
        "  for i in range(1,smaller+1):\n",
        "    if((x%i==0) and (y%i==0)):\n",
        "      hcf=i\n",
        "  return hcf"
      ],
      "metadata": {
        "id": "g4N6nnFlNW5Z"
      },
      "execution_count": 9,
      "outputs": []
    },
    {
      "cell_type": "code",
      "source": [
        "def computeHcf(x,y):\n",
        "  while(y):\n",
        "    x,y=y,x%y\n",
        "  return x"
      ],
      "metadata": {
        "id": "St-FpFZBOeyJ"
      },
      "execution_count": 11,
      "outputs": []
    },
    {
      "cell_type": "code",
      "source": [
        "num1=int(input(\"Enter the first number: \"))\n",
        "num2=int(input(\"Enter the second number: \"))\n",
        "print(f\"The HCF is {computeHcf(num1,num2)}\")"
      ],
      "metadata": {
        "colab": {
          "base_uri": "https://localhost:8080/"
        },
        "id": "ykh6cfPcOXUM",
        "outputId": "55ba47d6-2968-437e-9a65-4618da206021"
      },
      "execution_count": 12,
      "outputs": [
        {
          "output_type": "stream",
          "name": "stdout",
          "text": [
            "Enter the first number: 12\n",
            "Enter the second number: 14\n",
            "The HCF is 2\n"
          ]
        }
      ]
    },
    {
      "cell_type": "markdown",
      "source": [
        "<h1>3. Write a Python Program to Convert Decimal to Binary, Octal and Hexadecimal?</h1>"
      ],
      "metadata": {
        "id": "PLypqFhhOspX"
      }
    },
    {
      "cell_type": "code",
      "source": [
        "# Python program to convert decimal into other number systems\n",
        "dec=int(input(\"Enter a decimal value: \"))\n",
        "\n",
        "print(\"The decimal value of\", dec, \"is:\")\n",
        "print(bin(dec).replace(\"0b\",\"\"), \"in binary.\")\n",
        "print(oct(dec).replace(\"0o\",\"\"), \"in octal.\")\n",
        "print(hex(dec).replace(\"0x\",\"\"), \"in hexadecimal.\")"
      ],
      "metadata": {
        "colab": {
          "base_uri": "https://localhost:8080/"
        },
        "id": "xe57PZvhObEC",
        "outputId": "939655bf-a51c-4c5e-87c4-d5ffb6223a2c"
      },
      "execution_count": 14,
      "outputs": [
        {
          "output_type": "stream",
          "name": "stdout",
          "text": [
            "Enter a decimal value: 60\n",
            "The decimal value of 60 is:\n",
            "111100 in binary.\n",
            "74 in octal.\n",
            "3c in hexadecimal.\n"
          ]
        }
      ]
    },
    {
      "cell_type": "code",
      "source": [
        "\"{0:b}\".format(int(60))"
      ],
      "metadata": {
        "colab": {
          "base_uri": "https://localhost:8080/",
          "height": 35
        },
        "id": "fyyVh5oCPcpo",
        "outputId": "5b9dc097-450a-47f2-e76a-f3fddb5f1fe7"
      },
      "execution_count": 16,
      "outputs": [
        {
          "output_type": "execute_result",
          "data": {
            "text/plain": [
              "'111100'"
            ],
            "application/vnd.google.colaboratory.intrinsic+json": {
              "type": "string"
            }
          },
          "metadata": {},
          "execution_count": 16
        }
      ]
    },
    {
      "cell_type": "code",
      "source": [
        "\"{0:o}\".format(int(60))"
      ],
      "metadata": {
        "colab": {
          "base_uri": "https://localhost:8080/",
          "height": 35
        },
        "id": "5_xPDDLAQJbm",
        "outputId": "06611a4f-7571-4ddc-c76e-8483f2949cba"
      },
      "execution_count": 17,
      "outputs": [
        {
          "output_type": "execute_result",
          "data": {
            "text/plain": [
              "'74'"
            ],
            "application/vnd.google.colaboratory.intrinsic+json": {
              "type": "string"
            }
          },
          "metadata": {},
          "execution_count": 17
        }
      ]
    },
    {
      "cell_type": "code",
      "source": [
        "\"{0:x}\".format(int(60))"
      ],
      "metadata": {
        "colab": {
          "base_uri": "https://localhost:8080/",
          "height": 35
        },
        "id": "Wu5cqLqwQSgR",
        "outputId": "f3e132de-57fc-468f-cea5-911b287fd06b"
      },
      "execution_count": 18,
      "outputs": [
        {
          "output_type": "execute_result",
          "data": {
            "text/plain": [
              "'3c'"
            ],
            "application/vnd.google.colaboratory.intrinsic+json": {
              "type": "string"
            }
          },
          "metadata": {},
          "execution_count": 18
        }
      ]
    },
    {
      "cell_type": "markdown",
      "source": [
        "<h1>4. Write a Python Program To Find ASCII value of a character?</h1>"
      ],
      "metadata": {
        "id": "5EFkLXp9ROoV"
      }
    },
    {
      "cell_type": "code",
      "source": [
        "ascii=input(\"Enter a character: \")\n",
        "print(f\"The ASCII value of {ascii} is\",ord(ascii))"
      ],
      "metadata": {
        "colab": {
          "base_uri": "https://localhost:8080/"
        },
        "id": "F3R8Cm6tQUCB",
        "outputId": "7fe95d06-1854-434d-dbfb-b377d996e131"
      },
      "execution_count": 24,
      "outputs": [
        {
          "output_type": "stream",
          "name": "stdout",
          "text": [
            "Enter a character: a\n",
            "The ASCII value of a is 97\n"
          ]
        }
      ]
    },
    {
      "cell_type": "markdown",
      "source": [
        "<h1>5. Write a Python Program to Make a Simple Calculator with 4 basic mathematical operations?</h1>"
      ],
      "metadata": {
        "id": "EGa6kO5sR1c_"
      }
    },
    {
      "cell_type": "code",
      "source": [
        "def Add(a,b):\n",
        "  return a+b\n",
        "def sub(a,b):\n",
        "  if(a>b):\n",
        "    return a-b\n",
        "  else:\n",
        "    return b-a\n",
        "def mul(a,b):\n",
        "  return a*b\n",
        "\n",
        "def div(a,b):\n",
        "  if(b!=0):\n",
        "    return a/b\n",
        "\n",
        "def mod(a,b):\n",
        "  if(b!=0):\n",
        "    return a%b"
      ],
      "metadata": {
        "id": "CmewiI4IRY0r"
      },
      "execution_count": 25,
      "outputs": []
    },
    {
      "cell_type": "code",
      "source": [
        "while(True):\n",
        "  choice=input(\"Enter the type of operation: \")\n",
        "  num1=int(input(\"Enter a number: \"))\n",
        "  num2=int(input(\"Enter a another number: \"))  \n",
        "  if choice.lower()=='add':\n",
        "    result=Add(num1,num2)\n",
        "  elif choice.lower()=='subtract':\n",
        "    result=sub(num1,num2)\n",
        "  elif choice.lower()=='multiply':\n",
        "    result=mul(num1,num2)\n",
        "  elif choice.lower()=='divide':\n",
        "    result=div(num1,num2)\n",
        "  elif choice.lower()=='remainder':\n",
        "    result=mod(num1,num2)\n",
        "  elif choice.lower()=='end':\n",
        "    break\n",
        "\n",
        "  print(f\"The {choice} of two numbers {num1} and {num2} is {result}.\")\n"
      ],
      "metadata": {
        "colab": {
          "base_uri": "https://localhost:8080/"
        },
        "id": "Slta3MsXSO0F",
        "outputId": "57bf85fc-b003-4bad-c124-68a22189a20c"
      },
      "execution_count": 27,
      "outputs": [
        {
          "name": "stdout",
          "output_type": "stream",
          "text": [
            "Enter a number: 12\n",
            "Enter a another number: 12\n",
            "Enter the type of operation: Add\n",
            "The Add of two numbers 12 and 12 is 24.\n",
            "Enter a number: 34\n",
            "Enter a another number: 90\n",
            "Enter the type of operation: Subtract\n",
            "The Subtract of two numbers 34 and 90 is 56.\n",
            "Enter a number: 12\n",
            "Enter a another number: 1\n",
            "Enter the type of operation: End\n"
          ]
        }
      ]
    },
    {
      "cell_type": "code",
      "source": [],
      "metadata": {
        "id": "qY0lPXNlTzPs"
      },
      "execution_count": null,
      "outputs": []
    }
  ]
}