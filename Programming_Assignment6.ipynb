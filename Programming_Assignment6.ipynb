{
  "nbformat": 4,
  "nbformat_minor": 0,
  "metadata": {
    "colab": {
      "provenance": [],
      "authorship_tag": "ABX9TyOqt/51qr7OPYT77bMQpLyg",
      "include_colab_link": true
    },
    "kernelspec": {
      "name": "python3",
      "display_name": "Python 3"
    },
    "language_info": {
      "name": "python"
    }
  },
  "cells": [
    {
      "cell_type": "markdown",
      "metadata": {
        "id": "view-in-github",
        "colab_type": "text"
      },
      "source": [
        "<a href=\"https://colab.research.google.com/github/prasath9944/EDA/blob/main/Programming_Assignment6.ipynb\" target=\"_parent\"><img src=\"https://colab.research.google.com/assets/colab-badge.svg\" alt=\"Open In Colab\"/></a>"
      ]
    },
    {
      "cell_type": "markdown",
      "source": [
        "<h1>1. Write a Python Program to Display Fibonacci Sequence Using Recursion?</h1>"
      ],
      "metadata": {
        "id": "hllBNRcLUulr"
      }
    },
    {
      "cell_type": "code",
      "execution_count": 7,
      "metadata": {
        "id": "b0NDDT6LUuJF"
      },
      "outputs": [],
      "source": [
        "def fibonacci(num):\n",
        "  if num<=1:\n",
        "    return num\n",
        "  else:\n",
        "    return fibonacci(num-1)+fibonacci(num-2)"
      ]
    },
    {
      "cell_type": "code",
      "source": [
        "number=int(input(\"Enter a number to find fibonacci series: \"))\n",
        "for i in range(number+1):\n",
        "  print(f\"The series of {i} are {fibonacci(i)}\")"
      ],
      "metadata": {
        "colab": {
          "base_uri": "https://localhost:8080/"
        },
        "id": "d5VV6bwEU-ZV",
        "outputId": "29647c14-ec02-4571-d7f2-e344b35838c3"
      },
      "execution_count": 10,
      "outputs": [
        {
          "output_type": "stream",
          "name": "stdout",
          "text": [
            "Enter a number to find fibonacci series: 10\n",
            "The series of 0 are 0\n",
            "The series of 1 are 1\n",
            "The series of 2 are 1\n",
            "The series of 3 are 2\n",
            "The series of 4 are 3\n",
            "The series of 5 are 5\n",
            "The series of 6 are 8\n",
            "The series of 7 are 13\n",
            "The series of 8 are 21\n",
            "The series of 9 are 34\n",
            "The series of 10 are 55\n"
          ]
        }
      ]
    },
    {
      "cell_type": "markdown",
      "source": [
        "<h1>2. Write a Python Program to Find Factorial of Number Using Recursion?</</h1>"
      ],
      "metadata": {
        "id": "m5BlajvHWvoh"
      }
    },
    {
      "cell_type": "code",
      "source": [
        "def fact(num):\n",
        "  if num==0 or num==1:\n",
        "    return num\n",
        "  return fact(num-1)*num"
      ],
      "metadata": {
        "id": "wN4cEtY5VI-1"
      },
      "execution_count": 11,
      "outputs": []
    },
    {
      "cell_type": "code",
      "source": [
        "num=int(input(\"Enter a number to find factorial of a number: \"))\n",
        "print(f\"The Factorial of {num}! is {fact(num)}.\")"
      ],
      "metadata": {
        "colab": {
          "base_uri": "https://localhost:8080/"
        },
        "id": "BaTWgC0kW16M",
        "outputId": "48531ce6-d875-4379-9614-f8b26fae2d09"
      },
      "execution_count": 12,
      "outputs": [
        {
          "output_type": "stream",
          "name": "stdout",
          "text": [
            "Enter a number to find factorial of a number: 5\n",
            "The Factorial of 5! is 120.\n"
          ]
        }
      ]
    },
    {
      "cell_type": "markdown",
      "source": [
        "<h1>3. Write a Python Program to calculate your Body Mass Index?</h1>"
      ],
      "metadata": {
        "id": "-agQCHSOXDKs"
      }
    },
    {
      "cell_type": "code",
      "source": [
        "height=float(input(\"Enter your height in m: \"))\n",
        "weight=float(input(\"Enter your weight in kg: \"))\n",
        "BMI=round((weight/height),2)\n",
        "print(f\"The Body Mass Index of a person is {BMI}\")"
      ],
      "metadata": {
        "colab": {
          "base_uri": "https://localhost:8080/"
        },
        "id": "husJwCJiXALp",
        "outputId": "599bd238-b7de-400e-b8a4-00ad7cf34eba"
      },
      "execution_count": 14,
      "outputs": [
        {
          "output_type": "stream",
          "name": "stdout",
          "text": [
            "Enter your height in m: 6\n",
            "Enter your weight in kg: 65\n",
            "The Body Mass Index of a person is 10.83\n"
          ]
        }
      ]
    },
    {
      "cell_type": "markdown",
      "source": [
        "<h1>4. Write a Python Program to calculate the natural logarithm of any number?</h1>"
      ],
      "metadata": {
        "id": "loQRy5N-Y9vX"
      }
    },
    {
      "cell_type": "code",
      "source": [
        "import math\n",
        "num=int(input(\"Enter a number to find the natural log: \"))\n",
        "print(f\"The logarithm of {num} is {math.log(num)}\")"
      ],
      "metadata": {
        "colab": {
          "base_uri": "https://localhost:8080/"
        },
        "id": "0KPeee1xXoeL",
        "outputId": "a77416e9-b739-4cf8-9756-fd4223238111"
      },
      "execution_count": 15,
      "outputs": [
        {
          "output_type": "stream",
          "name": "stdout",
          "text": [
            "Enter a number to find the natural log: 10\n",
            "The logarithm of 10 is 2.302585092994046\n"
          ]
        }
      ]
    },
    {
      "cell_type": "markdown",
      "source": [
        "<h1>5. Write a Python Program for cube sum of first n natural numbers?</h1>"
      ],
      "metadata": {
        "id": "WfKbWY7fZi9F"
      }
    },
    {
      "cell_type": "code",
      "source": [
        "def cube_sum(num):\n",
        "  sum=0\n",
        "  for i in range(1,num+1):\n",
        "    sum=pow(i,3)+sum\n",
        "  return sum"
      ],
      "metadata": {
        "id": "LvpnIaLyZgP-"
      },
      "execution_count": 16,
      "outputs": []
    },
    {
      "cell_type": "code",
      "source": [
        "num=int(input(\"Enter a number to find the Cube sum of first n natural numbers: \"))\n",
        "print(f\"the sum is {cube_sum(num)}\")"
      ],
      "metadata": {
        "colab": {
          "base_uri": "https://localhost:8080/"
        },
        "id": "keL-nEa9aFYC",
        "outputId": "eb14a2d1-7e06-4ecb-f8ae-86958517c83b"
      },
      "execution_count": 17,
      "outputs": [
        {
          "output_type": "stream",
          "name": "stdout",
          "text": [
            "Enter a number to find the Cube sum of first n natural numbers: 5\n",
            "the sum is 225\n"
          ]
        }
      ]
    },
    {
      "cell_type": "code",
      "source": [],
      "metadata": {
        "id": "J9AnKQp4aTN8"
      },
      "execution_count": null,
      "outputs": []
    }
  ]
}